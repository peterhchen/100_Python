{
 "cells": [
  {
   "cell_type": "code",
   "execution_count": 1,
   "metadata": {},
   "outputs": [
    {
     "name": "stdout",
     "output_type": "stream",
     "text": [
      "hello world\n"
     ]
    }
   ],
   "source": [
    "print(\"hello world, my name is Wayne\")"
   ]
  },
  {
   "cell_type": "code",
   "execution_count": 4,
   "metadata": {
    "scrolled": true
   },
   "outputs": [
    {
     "name": "stdout",
     "output_type": "stream",
     "text": [
      "hello there\n",
      "Hello again\n"
     ]
    }
   ],
   "source": [
    "# this is a single line comment\n",
    "print(\"hello there\")\n",
    "# this is a multi line comment\n",
    "\"\"\"\n",
    "This is a multi-line comment, I hope\n",
    "\"\"\"\n",
    "print(\"Hello again\")"
   ]
  },
  {
   "cell_type": "code",
   "execution_count": 10,
   "metadata": {},
   "outputs": [
    {
     "name": "stdout",
     "output_type": "stream",
     "text": [
      "Then Alexander said \"Come here Watson, I want you”\n"
     ]
    }
   ],
   "source": [
    "print('Then Alexander said \"Come here Watson, I want you”')"
   ]
  },
  {
   "cell_type": "code",
   "execution_count": null,
   "metadata": {},
   "outputs": [],
   "source": []
  },
  {
   "cell_type": "markdown",
   "metadata": {},
   "source": [
    "# Now let's talk about data types"
   ]
  },
  {
   "cell_type": "code",
   "execution_count": 7,
   "metadata": {},
   "outputs": [
    {
     "name": "stdout",
     "output_type": "stream",
     "text": [
      "123\n",
      "-493\n",
      "(1, 234, 567)\n"
     ]
    }
   ],
   "source": [
    "# integer\n",
    "a = 123\n",
    "print(a)\n",
    "# negative integer\n",
    "b = -493\n",
    "print(b)\n",
    "c = 1,234,567\n",
    "print(c) # Hmmm. That didn't work right. why not"
   ]
  },
  {
   "cell_type": "code",
   "execution_count": 3,
   "metadata": {},
   "outputs": [
    {
     "name": "stdout",
     "output_type": "stream",
     "text": [
      "123.0\n"
     ]
    }
   ],
   "source": [
    "a = 123.0\n",
    "print (a)"
   ]
  },
  {
   "cell_type": "code",
   "execution_count": 11,
   "metadata": {},
   "outputs": [
    {
     "name": "stdout",
     "output_type": "stream",
     "text": [
      "The score is  25 to 21\n",
      "the types of score1 and score 2 are <class 'int'> <class 'int'>\n"
     ]
    }
   ],
   "source": [
    "score1 = 25\n",
    "score2 = 21\n",
    "print('The score is ', score1, 'to', score2)\n",
    "print(\"the types of score1 and score 2 are\", type(score1),type(score2))"
   ]
  },
  {
   "cell_type": "code",
   "execution_count": null,
   "metadata": {},
   "outputs": [],
   "source": []
  },
  {
   "cell_type": "markdown",
   "metadata": {},
   "source": [
    "##  Now let's do some math"
   ]
  },
  {
   "cell_type": "code",
   "execution_count": null,
   "metadata": {},
   "outputs": [],
   "source": [
    "a = 123.0\n",
    "print (a)\n",
    "a = -98.3232\n",
    "print(a)"
   ]
  }
 ],
 "metadata": {
  "kernelspec": {
   "display_name": "Python 3",
   "language": "python",
   "name": "python3"
  },
  "language_info": {
   "codemirror_mode": {
    "name": "ipython",
    "version": 3
   },
   "file_extension": ".py",
   "mimetype": "text/x-python",
   "name": "python",
   "nbconvert_exporter": "python",
   "pygments_lexer": "ipython3",
   "version": "3.7.1"
  }
 },
 "nbformat": 4,
 "nbformat_minor": 2
}
