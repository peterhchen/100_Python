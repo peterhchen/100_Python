{
 "cells": [
  {
   "cell_type": "markdown",
   "metadata": {},
   "source": [
    "# Homework from Class 1"
   ]
  },
  {
   "cell_type": "markdown",
   "metadata": {},
   "source": [
    "\n",
    "1)  Install Anaconda on your own computer.  Go to \n",
    "https://www.anaconda.com/distribution/ (Links to an external site.)Links to an external site.\n",
    "Download and install the latest version appropriate for your operating system"
   ]
  },
  {
   "cell_type": "markdown",
   "metadata": {},
   "source": [
    "2)  Create a Python file (name ends in “.py”, for example: “HW1_\n",
    "WayneFenton.py”) that shows examples of assignment statements, using a total of 8 variables (make up variable names not used in class).  \n",
    "2 integers (e.g. age = 12, etc)\n",
    "2 floats (numbers with a decimal point)\n",
    "2 strings\n",
    "2 Booleans \n",
    "The variable names should make sense for the type of variable. For example priceOfGas would be good for a float variable since that represents a number with a decimal point. \n",
    "The assignment statements can be as simple as just creating a variable and giving it a value.  Each variable should have an associated print statement, i.e.:\n",
    "       score = 25\n",
    "       print('The score is', score)\n",
    "Create variables that we did not use in class.   Use a naming convention (preferably “Camel Case”) for longer name, for example:\n",
    "monthDayYear = “April 10, 2014”"
   ]
  },
  {
   "cell_type": "code",
   "execution_count": 4,
   "metadata": {},
   "outputs": [
    {
     "name": "stdout",
     "output_type": "stream",
     "text": [
      "21\n",
      "14\n",
      "94.5\n",
      "3.14159\n",
      "Wayne\n",
      "888 Bryant St.\n",
      "True\n",
      "False\n"
     ]
    }
   ],
   "source": [
    "age = 21\n",
    "print(age)\n",
    "numCorrect = 14\n",
    "print(numCorrect)\n",
    "pctCorrect = 94.5\n",
    "print(pctCorrect)\n",
    "PI = 3.14159\n",
    "print(PI)\n",
    "name = \"Wayne\"\n",
    "print(name)\n",
    "address = \"888 Bryant St.\"\n",
    "print(address)\n",
    "found = True\n",
    "print(found)\n",
    "under21 = False\n",
    "print(under21)"
   ]
  },
  {
   "cell_type": "markdown",
   "metadata": {},
   "source": [
    "3. Pick a number from 10 to 25 and assign it to variable a. Then convert a to float and assign it b. Convert a to string and assign it to c. Print a, b, c along with their types."
   ]
  },
  {
   "cell_type": "code",
   "execution_count": 5,
   "metadata": {},
   "outputs": [
    {
     "name": "stdout",
     "output_type": "stream",
     "text": [
      "12 <class 'int'> 12.0 <class 'float'> 12.0 <class 'str'>\n"
     ]
    }
   ],
   "source": [
    "a = 12\n",
    "b = float(a)\n",
    "c = str(a)\n",
    "print(a, type(a), b, type(b), c, type(c))"
   ]
  },
  {
   "cell_type": "markdown",
   "metadata": {},
   "source": [
    "4. If b = “9253”, how would you convert b into int? How would you convert b into float? Print the output of each conversion."
   ]
  },
  {
   "cell_type": "code",
   "execution_count": 7,
   "metadata": {},
   "outputs": [
    {
     "name": "stdout",
     "output_type": "stream",
     "text": [
      "9253 <class 'str'>\n",
      "9253 <class 'int'>\n",
      "9253.0 <class 'float'>\n"
     ]
    }
   ],
   "source": [
    "b = \"9253\"\n",
    "print(b, type(b))\n",
    "b = int(b)\n",
    "print(b, type(b))\n",
    "b = float(b)\n",
    "print(b, type(b))"
   ]
  },
  {
   "cell_type": "markdown",
   "metadata": {},
   "source": [
    "5. What is:\n",
    "bool(0+ 10)?\n",
    "bool(“” + “a”)?\n",
    "bool(0.0 + 0.0)?"
   ]
  },
  {
   "cell_type": "code",
   "execution_count": 5,
   "metadata": {},
   "outputs": [
    {
     "name": "stdout",
     "output_type": "stream",
     "text": [
      "True\n",
      "True\n",
      "False\n"
     ]
    }
   ],
   "source": [
    "print(bool(0+10))\n",
    "print(bool(\"\"  + \"a\"))\n",
    "print(bool(0.0 + 0.0))"
   ]
  },
  {
   "cell_type": "code",
   "execution_count": null,
   "metadata": {},
   "outputs": [],
   "source": []
  }
 ],
 "metadata": {
  "kernelspec": {
   "display_name": "Python 3",
   "language": "python",
   "name": "python3"
  },
  "language_info": {
   "codemirror_mode": {
    "name": "ipython",
    "version": 3
   },
   "file_extension": ".py",
   "mimetype": "text/x-python",
   "name": "python",
   "nbconvert_exporter": "python",
   "pygments_lexer": "ipython3",
   "version": "3.7.1"
  }
 },
 "nbformat": 4,
 "nbformat_minor": 2
}
