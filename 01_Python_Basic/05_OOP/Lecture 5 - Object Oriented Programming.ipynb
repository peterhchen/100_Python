{
 "cells": [
  {
   "cell_type": "markdown",
   "metadata": {},
   "source": [
    "# Basic class defintion + Inheritance"
   ]
  },
  {
   "cell_type": "code",
   "execution_count": 5,
   "metadata": {},
   "outputs": [],
   "source": [
    "# Class example: \n",
    "# Shows:\n",
    "#  class definition\n",
    "#  simple inheritence (We'll learn more about that later)\n",
    "\n",
    "class Animal(object):\n",
    "    pass\n",
    "\n",
    "class Vegetable(object):\n",
    "    pass\n",
    "\n",
    "class Mineral(object):\n",
    "    pass\n",
    "\n",
    "class Vehicle(Mineral):\n",
    "    pass\n",
    "\n",
    "class Airplane(Vehicle): # an Airplane is a Vehicle\n",
    "    pass\n",
    "\n",
    "class Boat(Vehicle):   # a Boat is a Vehicle\n",
    "    pass\n",
    "\n",
    "class Car(Vehicle): # a Car is a Vehicle\n",
    "    pass\n",
    "\n",
    "class Ford(Car):\n",
    "    pass\n",
    "\n",
    "class Volkswagon(Car):\n",
    "    pass\n",
    "\n",
    "class BMW(Car):\n",
    "    pass"
   ]
  },
  {
   "cell_type": "markdown",
   "metadata": {},
   "source": [
    "# Basic Class + type / object printing"
   ]
  },
  {
   "cell_type": "code",
   "execution_count": 2,
   "metadata": {},
   "outputs": [
    {
     "name": "stdout",
     "output_type": "stream",
     "text": [
      "Creating some cars\n",
      "<class '__main__.BMW'>\n",
      "<__main__.BMW object at 0x10ca295c0> \n",
      "\n",
      "<class '__main__.BMW'>\n",
      "<__main__.BMW object at 0x10c72f4e0>\n"
     ]
    }
   ],
   "source": [
    "# Class example: \n",
    "# Shows:\n",
    "#    class definition\n",
    "#    object creation\n",
    "\n",
    "class Car(object):\n",
    "    pass\n",
    "\n",
    "class Vehicle(Car):\n",
    "    pass\n",
    "\n",
    "class BMW(Vehicle):\n",
    "    pass\n",
    "\n",
    "print(\"Creating some cars\")\n",
    "my325is = BMW()\n",
    "myi3 = BMW()\n",
    "\n",
    "print(type(my325is))\n",
    "print(my325is,\"\\n\")    # what's the difference between these two?\n",
    "\n",
    "print(type(myi3))\n",
    "print(myi3)"
   ]
  },
  {
   "cell_type": "code",
   "execution_count": null,
   "metadata": {},
   "outputs": [],
   "source": []
  },
  {
   "cell_type": "code",
   "execution_count": null,
   "metadata": {},
   "outputs": [],
   "source": []
  },
  {
   "cell_type": "markdown",
   "metadata": {},
   "source": [
    "# Constructor Critter"
   ]
  },
  {
   "cell_type": "code",
   "execution_count": 8,
   "metadata": {},
   "outputs": [
    {
     "name": "stdout",
     "output_type": "stream",
     "text": [
      "A new Poochie critter has been born!\n",
      "A new Randolph critter has been born!\n"
     ]
    }
   ],
   "source": [
    "# Constructor Critter\n",
    "# Shows:\n",
    "#    base class\n",
    "#    constructor method\n",
    "#    object creation\n",
    "\n",
    "class Critter(object):\n",
    "    def __init__(self, name):\n",
    "#    def __init__(name): # Note: self is required\n",
    "        print(\"A new\", name, \"critter has been born!\")\n",
    "#        return False # Note constructor cannot return anything\n",
    "\n",
    "# main\n",
    "crit1 = Critter(\"Poochie\")\n",
    "crit2 = Critter(\"Randolph\")"
   ]
  },
  {
   "cell_type": "markdown",
   "metadata": {},
   "source": [
    "# Simple Critter"
   ]
  },
  {
   "cell_type": "code",
   "execution_count": 1,
   "metadata": {},
   "outputs": [
    {
     "name": "stdout",
     "output_type": "stream",
     "text": [
      "Hi.  I'm an instance of class Critter.\n"
     ]
    }
   ],
   "source": [
    "# Simple Critter\n",
    "# Shows:\n",
    "#    base class\n",
    "#    method definition\n",
    "#    object creation\n",
    "#    method call\n",
    "\n",
    "class Critter(object):\n",
    "    def talk(self):      # Looks like a function definition, but indented relative to class definition\n",
    "        print(\"Hi.  I'm an instance of class Critter.\")\n",
    "\n",
    "# Back out at main code flow\n",
    "crit = Critter()  # Create a critter\n",
    "crit.talk()       # call the talk() method"
   ]
  },
  {
   "cell_type": "markdown",
   "metadata": {},
   "source": [
    "# Attribute Critter"
   ]
  },
  {
   "cell_type": "code",
   "execution_count": 18,
   "metadata": {},
   "outputs": [
    {
     "name": "stdout",
     "output_type": "stream",
     "text": [
      "A new Poochie critter has been born!\n",
      "Hi.  I'm Poochie\n",
      "crit1's name is Poochie \n",
      "\n",
      "A new Randolph critter has been born!\n",
      "Hi.  I'm Randolph\n",
      "crit2's name is Randolph\n"
     ]
    }
   ],
   "source": [
    "# Attribute Critter\n",
    "# Shows: \n",
    "#    class definition\n",
    "#    constructor method,\n",
    "#    attribute (public)\n",
    "#    method definition\n",
    "#    object creation\n",
    "#    method invocation\n",
    "#    accessing public attribute\n",
    "\n",
    "class Critter(object):\n",
    "    def __init__(self, name):\n",
    "        print(\"A new\", name, \"critter has been born!\")\n",
    "        self.name = name                   # This is an attribute that stores data associated with class\n",
    "\n",
    "    def talk(self):\n",
    "        print(\"Hi.  I'm\", self.name) # prints out the attribute stored with the object (vs the class)\n",
    "\n",
    "# main\n",
    "crit1 = Critter(\"Poochie\")\n",
    "crit1.talk()\n",
    "print(\"crit1's name is\",crit1.name, \"\\n\")   # Access the attribute directly\n",
    "\n",
    "crit2 = Critter(\"Randolph\")\n",
    "crit2.talk()\n",
    "print(\"crit2's name is\",crit2.name)         # Access the attribute directly"
   ]
  },
  {
   "cell_type": "markdown",
   "metadata": {},
   "source": [
    "# Attribute Critter v2"
   ]
  },
  {
   "cell_type": "code",
   "execution_count": 13,
   "metadata": {},
   "outputs": [
    {
     "name": "stdout",
     "output_type": "stream",
     "text": [
      "A new critter has been born!\n",
      "Hi.  I'm Poochie \n",
      "\n",
      "A new critter has been born!\n",
      "Hi.  I'm Randolph \n",
      "\n",
      "Printing crit1:\n",
      "Critter object\n",
      "name: Poochie\n",
      "\n",
      "Directly accessing crit1.name: Poochie\n"
     ]
    }
   ],
   "source": [
    "# Attribute Critter Continued\n",
    "# Shows:\n",
    "#    Atribute Critter items\n",
    "#    __str__ method to print string representation of object\n",
    "\n",
    "class Critter(object):\n",
    "    def __init__(self, name):\n",
    "        print(\"A new critter has been born!\")\n",
    "        self.name = name\n",
    "\n",
    "    def __str__(self):\n",
    "        rep = \"Critter object\\n\"\n",
    "        rep += \"name: \" + self.name + \"\\n\"\n",
    "        return rep  \n",
    "\n",
    "    def talk(self):\n",
    "        print(\"Hi.  I'm\", self.name, \"\\n\")\n",
    "\n",
    "# main\n",
    "crit1 = Critter(\"Poochie\")  # creates a new object with name == \"Poochie\"\n",
    "crit1.talk()\n",
    "\n",
    "crit2 = Critter(\"Randolph\") # creates a new object with name == \"Randolph\"\n",
    "crit2.talk()\n",
    "\n",
    "print(\"Printing crit1:\")\n",
    "print(crit1)              # CALLS THE __str__ METHOD. Explain why this works \n",
    "\n",
    "print(\"Directly accessing crit1.name:\", crit1.name)         # Accesses the name attribute"
   ]
  },
  {
   "cell_type": "markdown",
   "metadata": {},
   "source": [
    "# Classy Critter"
   ]
  },
  {
   "cell_type": "code",
   "execution_count": 18,
   "metadata": {},
   "outputs": [
    {
     "name": "stdout",
     "output_type": "stream",
     "text": [
      "Accessing the class attribute Critter.total: 0\n",
      "\n",
      "Creating critters.\n",
      "A critter has been born!\n",
      "A critter has been born!\n",
      "A critter has been born!\n",
      "\n",
      "The total number of critters is 3\n",
      "\n",
      "Accessing the class attribute through an object: 3\n"
     ]
    }
   ],
   "source": [
    "# Classy Critter \n",
    "# Shows:\n",
    "#    attributes \n",
    "#    static method\n",
    "\n",
    "class Critter(object):\n",
    "    total = 0           # This is outside of a method so it's a \"class attribute\"\n",
    "\n",
    "    @staticmethod       # This is a DECORATOR, it tells interpreter that the next method will be static method\n",
    "    def status():       # NOTE: there is no self parameter because this method is class relative, not object relative\n",
    "        print(\"\\nThe total number of critters is\", Critter.total)\n",
    "        \n",
    "    def __init__(self, name):\n",
    "        print(\"A critter has been born!\")\n",
    "        self.name = name\n",
    "        Critter.total += 1    # This increments value that applies to ALL objects instantiated from this class\n",
    "\n",
    "#main\n",
    "print(\"Accessing the class attribute Critter.total:\", end=\" \")\n",
    "print(Critter.total)\n",
    "\n",
    "print(\"\\nCreating critters.\")\n",
    "crit1 = Critter(\"critter 1\")\n",
    "crit2 = Critter(\"critter 2\")\n",
    "crit3 = Critter(\"critter 3\")\n",
    "\n",
    "Critter.status()\n",
    "\n",
    "print(\"\\nAccessing the class attribute through an object:\", end= \" \")\n",
    "print(crit1.total) # Note this accesses shared value from ANY instantiated object"
   ]
  },
  {
   "cell_type": "markdown",
   "metadata": {},
   "source": [
    "# Private Critter"
   ]
  },
  {
   "cell_type": "code",
   "execution_count": 19,
   "metadata": {},
   "outputs": [
    {
     "name": "stdout",
     "output_type": "stream",
     "text": [
      "A new critter has been born!\n",
      "\n",
      "I'm Poochie\n",
      "Right now I feel happy \n",
      "\n",
      "This is a public method.\n",
      "This is a private method.\n"
     ]
    },
    {
     "ename": "AttributeError",
     "evalue": "'Critter' object has no attribute '__private_method'",
     "output_type": "error",
     "traceback": [
      "\u001b[0;31m---------------------------------------------------------------------------\u001b[0m",
      "\u001b[0;31mAttributeError\u001b[0m                            Traceback (most recent call last)",
      "\u001b[0;32m<ipython-input-19-fe74ea2d177e>\u001b[0m in \u001b[0;36m<module>\u001b[0;34m\u001b[0m\n\u001b[1;32m     25\u001b[0m \u001b[0mcrit\u001b[0m\u001b[0;34m.\u001b[0m\u001b[0mtalk\u001b[0m\u001b[0;34m(\u001b[0m\u001b[0;34m)\u001b[0m\u001b[0;34m\u001b[0m\u001b[0;34m\u001b[0m\u001b[0m\n\u001b[1;32m     26\u001b[0m \u001b[0mcrit\u001b[0m\u001b[0;34m.\u001b[0m\u001b[0mpublic_method\u001b[0m\u001b[0;34m(\u001b[0m\u001b[0;34m)\u001b[0m\u001b[0;34m\u001b[0m\u001b[0;34m\u001b[0m\u001b[0m\n\u001b[0;32m---> 27\u001b[0;31m \u001b[0mcrit\u001b[0m\u001b[0;34m.\u001b[0m\u001b[0m__private_method\u001b[0m\u001b[0;34m(\u001b[0m\u001b[0;34m)\u001b[0m  \u001b[0;31m# This won't work. Try it out\u001b[0m\u001b[0;34m\u001b[0m\u001b[0;34m\u001b[0m\u001b[0m\n\u001b[0m",
      "\u001b[0;31mAttributeError\u001b[0m: 'Critter' object has no attribute '__private_method'"
     ]
    }
   ],
   "source": [
    "# Private Critter\n",
    "# Shows:\n",
    "#    private variables\n",
    "#    private methods\n",
    "\n",
    "class Critter(object):\n",
    "    def __init__(self, name, mood): # Special case of a private method. Called when object created\n",
    "        print(\"A new critter has been born!\")\n",
    "        self.name = name            # public attribute\n",
    "        self.__mood = mood          # NOTE: BECAUSE OF \"__\" THIS IS A PRIVATE ATTRIBUTE\n",
    "\n",
    "    def talk(self):\n",
    "        print(\"\\nI'm\", self.name)\n",
    "        print(\"Right now I feel\", self.__mood, \"\\n\")   # talk() IS allowed to access private attributes\n",
    "\n",
    "    def __private_method(self):              # Note the leading \"__\". So this is \n",
    "        print(\"This is a private method.\")   #TODO: access the private attr\n",
    "\n",
    "    def public_method(self):\n",
    "        print(\"This is a public method.\")\n",
    "        self.__private_method()\n",
    "\n",
    "# main\n",
    "crit = Critter(name = \"Poochie\", mood = \"happy\")\n",
    "crit.talk()\n",
    "crit.public_method()\n",
    "# crit.__private_method()  # This won't work. Try it out"
   ]
  },
  {
   "cell_type": "code",
   "execution_count": null,
   "metadata": {},
   "outputs": [],
   "source": []
  },
  {
   "cell_type": "markdown",
   "metadata": {},
   "source": [
    "# Property Critter"
   ]
  },
  {
   "cell_type": "code",
   "execution_count": 23,
   "metadata": {},
   "outputs": [
    {
     "name": "stdout",
     "output_type": "stream",
     "text": [
      "A new critter has been born!\n",
      "\n",
      "Hi, I'm Poochie\n",
      "\n",
      "My critter's name is: Poochie\n",
      "\n",
      "Attempting to change my critter's name to Randolph...\n",
      "Name change successful.\n",
      "My critter's name is: Randolph\n",
      "\n",
      "Attempting to change my critter's name to the empty string...\n",
      "A critter's name can't be the empty string.\n",
      "My critter's name is: Randolph\n"
     ]
    }
   ],
   "source": [
    "# Property Critter\n",
    "# Shows:\n",
    "#   properties (getter method)\n",
    "#   setter\n",
    "\n",
    "class Critter(object):\n",
    "    def __init__(self, name):\n",
    "        print(\"A new critter has been born!\")\n",
    "        self.__name = name     # Note this is a private attribute\n",
    "\n",
    "    @property                  # This is clean way to READ private __name. We also call this a \"getter\" method\n",
    "    def name(self):\n",
    "        return self.__name\n",
    "    \n",
    "    @name.setter               # This is a \"setter\" (i.e. WRITE) method. It provides write mechanisms to attribute name\n",
    "    def name(self, new_name):\n",
    "        if new_name == \"\":\n",
    "            print(\"A critter's name can't be the empty string.\")\n",
    "        else:\n",
    "            self.__name = new_name\n",
    "            print(\"Name change successful.\")\n",
    "\n",
    "    def talk(self):\n",
    "        print(\"\\nHi, I'm\", self.name)\n",
    "\n",
    "# main\n",
    "crit = Critter(\"Poochie\")\n",
    "crit.talk()\n",
    "\n",
    "print(\"\\nMy critter's name is:\", end= \" \")\n",
    "print(crit.name)\n",
    "\n",
    "print(\"\\nAttempting to change my critter's name to Randolph...\")\n",
    "crit.name = \"Randolph\"                    # NOTE THIS invokes .setter function above\n",
    "print(\"My critter's name is:\", end= \" \")\n",
    "print(crit.name)\n",
    "\n",
    "print(\"\\nAttempting to change my critter's name to the empty string...\")\n",
    "crit.name = \"\"\n",
    "print(\"My critter's name is:\", end= \" \")\n",
    "print(crit.name)"
   ]
  },
  {
   "cell_type": "markdown",
   "metadata": {},
   "source": [
    "# Critter Caretaker"
   ]
  },
  {
   "cell_type": "code",
   "execution_count": null,
   "metadata": {},
   "outputs": [
    {
     "name": "stdout",
     "output_type": "stream",
     "text": [
      "What do you want to name your critter?: Wayne\n",
      "\n",
      "        Critter Caretaker\n",
      "    \n",
      "        0 - Quit\n",
      "        1 - Listen to your critter\n",
      "        2 - Feed your critter\n",
      "        3 - Play with your critter\n",
      "        \n",
      "Choice: 3\n",
      "\n",
      "Wheee!\n",
      "\n",
      "        Critter Caretaker\n",
      "    \n",
      "        0 - Quit\n",
      "        1 - Listen to your critter\n",
      "        2 - Feed your critter\n",
      "        3 - Play with your critter\n",
      "        \n",
      "Choice: 2\n",
      "\n",
      "Brruppp.  Thank you.\n",
      "\n",
      "        Critter Caretaker\n",
      "    \n",
      "        0 - Quit\n",
      "        1 - Listen to your critter\n",
      "        2 - Feed your critter\n",
      "        3 - Play with your critter\n",
      "        \n",
      "Choice: 1\n",
      "\n",
      "I'm Wayne and I feel happy now.\n",
      "\n",
      "\n",
      "        Critter Caretaker\n",
      "    \n",
      "        0 - Quit\n",
      "        1 - Listen to your critter\n",
      "        2 - Feed your critter\n",
      "        3 - Play with your critter\n",
      "        \n",
      "Choice: 3\n",
      "\n",
      "Wheee!\n",
      "\n",
      "        Critter Caretaker\n",
      "    \n",
      "        0 - Quit\n",
      "        1 - Listen to your critter\n",
      "        2 - Feed your critter\n",
      "        3 - Play with your critter\n",
      "        \n"
     ]
    }
   ],
   "source": [
    "# Critter Caretaker\n",
    "# Putting it all together: \"A virtual pet to care for\"\n",
    "\n",
    "class Critter(object):\n",
    "    \"\"\"A virtual pet\"\"\"\n",
    "    def __init__(self, name, hunger = 0, boredom = 0):\n",
    "        self.name = name\n",
    "        self.hunger = hunger\n",
    "        self.boredom = boredom\n",
    "\n",
    "    def __pass_time(self):\n",
    "        self.hunger += 1\n",
    "        self.boredom += 1\n",
    "\n",
    "    @property\n",
    "    def mood(self):\n",
    "        unhappiness = self.hunger + self.boredom\n",
    "        if unhappiness < 5:\n",
    "            m = \"happy\"\n",
    "        elif 5 <= unhappiness <= 10:\n",
    "            m = \"okay\"\n",
    "        elif 11 <= unhappiness <= 15:\n",
    "            m = \"frustrated\"\n",
    "        else:\n",
    "            m = \"mad\"\n",
    "        return m\n",
    "    \n",
    "    def talk(self):\n",
    "        print(\"I'm\", self.name, \"and I feel\", self.mood, \"now.\\n\")\n",
    "        self.__pass_time()\n",
    "    \n",
    "    def eat(self, food = 4):\n",
    "        print(\"Brruppp.  Thank you.\")\n",
    "        self.hunger -= food\n",
    "        if self.hunger < 0:\n",
    "            self.hunger = 0\n",
    "        self.__pass_time()\n",
    "\n",
    "    def play(self, fun = 4):\n",
    "        print(\"Wheee!\")\n",
    "        self.boredom -= fun\n",
    "        if self.boredom < 0:\n",
    "            self.boredom = 0\n",
    "        self.__pass_time()\n",
    "\n",
    "\n",
    "def main():\n",
    "    crit_name = input(\"What do you want to name your critter?: \")\n",
    "    crit = Critter(crit_name)\n",
    "\n",
    "    choice = None  \n",
    "    while choice != \"0\":\n",
    "        print \\\n",
    "        (\"\"\"\n",
    "        Critter Caretaker\n",
    "    \n",
    "        0 - Quit\n",
    "        1 - Listen to your critter\n",
    "        2 - Feed your critter\n",
    "        3 - Play with your critter\n",
    "        \"\"\")\n",
    "    \n",
    "        choice = input(\"Choice: \")\n",
    "        print()\n",
    "\n",
    "        # exit\n",
    "        if choice == \"0\":\n",
    "            print(\"Good-bye.\")\n",
    "\n",
    "        # listen to your critter\n",
    "        elif choice == \"1\":\n",
    "            crit.talk()\n",
    "        \n",
    "        # feed your critter\n",
    "        elif choice == \"2\":\n",
    "            crit.eat()\n",
    "         \n",
    "        # play with your critter\n",
    "        elif choice == \"3\":\n",
    "            crit.play()\n",
    "\n",
    "        # some unknown choice\n",
    "        else:\n",
    "            print(\"\\nSorry, but\", choice, \"isn't a valid choice.\")\n",
    "\n",
    "main()\n",
    "(\"\\n\\nPress the enter key to exit.\") \n"
   ]
  }
 ],
 "metadata": {
  "kernelspec": {
   "display_name": "Python 3",
   "language": "python",
   "name": "python3"
  },
  "language_info": {
   "codemirror_mode": {
    "name": "ipython",
    "version": 3
   },
   "file_extension": ".py",
   "mimetype": "text/x-python",
   "name": "python",
   "nbconvert_exporter": "python",
   "pygments_lexer": "ipython3",
   "version": "3.6.8"
  }
 },
 "nbformat": 4,
 "nbformat_minor": 2
}
