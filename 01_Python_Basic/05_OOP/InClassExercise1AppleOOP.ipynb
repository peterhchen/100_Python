{
 "cells": [
  {
   "attachments": {},
   "cell_type": "markdown",
   "metadata": {},
   "source": [
    "# In class exercise 1 for Lecture 5:\n",
    "\n",
    "1. Create classes to reflect this Object Hierarchy Object -> Vegetable -> Apple\n",
    "2. Create three different apples and add them to a list\n",
    "3. Add a constructor to Apple that takes a Type parameter\n",
    "Update object creation calls to pass apple type\n",
    "E.g. (\"Golden Delicious\", \"Honey Crisp\", \"Gravenstein\")\n",
    "Call print on the list \n"
   ]
  },
  {
   "cell_type": "code",
   "execution_count": 1,
   "metadata": {},
   "outputs": [],
   "source": [
    "# Version 1\n",
    "class Vegetable(object):\n",
    "    pass\n",
    "\n",
    "class Apple(Vegetable):\n",
    "    pass\n"
   ]
  },
  {
   "cell_type": "code",
   "execution_count": 2,
   "metadata": {},
   "outputs": [],
   "source": [
    "# Version 2\n",
    "class Vegetable(object):\n",
    "    pass\n",
    "\n",
    "class Apple(Vegetable):\n",
    "    pass\n",
    "\n",
    "aList = []\n",
    "apple1 = Apple()\n",
    "apple2 = Apple()\n",
    "apple3 = Apple()\n",
    "aList.append(apple1)\n",
    "aList.append(apple2)\n",
    "aList.append(apple3)"
   ]
  },
  {
   "cell_type": "code",
   "execution_count": 3,
   "metadata": {},
   "outputs": [
    {
     "name": "stdout",
     "output_type": "stream",
     "text": [
      "[<__main__.Apple object at 0x10a52c588>, <__main__.Apple object at 0x10a52c5c0>, <__main__.Apple object at 0x10a52c518>]\n"
     ]
    }
   ],
   "source": [
    "# Version 3\n",
    "class Vegetable(object):\n",
    "    pass\n",
    "\n",
    "class Apple(Vegetable):\n",
    "    def __init__(self, name):\n",
    "        self.name = name\n",
    "\n",
    "# Create a list of apples\n",
    "aList = []\n",
    "aList.append(Apple(\"Golden Delicious\"))\n",
    "aList.append(Apple(\"Honey Crisp\"))\n",
    "aList.append(Apple(\"Gravenstein\"))\n",
    "\n",
    "print(aList)\n",
    "\n"
   ]
  },
  {
   "cell_type": "code",
   "execution_count": null,
   "metadata": {},
   "outputs": [],
   "source": []
  }
 ],
 "metadata": {
  "kernelspec": {
   "display_name": "Python 3",
   "language": "python",
   "name": "python3"
  },
  "language_info": {
   "codemirror_mode": {
    "name": "ipython",
    "version": 3
   },
   "file_extension": ".py",
   "mimetype": "text/x-python",
   "name": "python",
   "nbconvert_exporter": "python",
   "pygments_lexer": "ipython3",
   "version": "3.6.8"
  }
 },
 "nbformat": 4,
 "nbformat_minor": 2
}
