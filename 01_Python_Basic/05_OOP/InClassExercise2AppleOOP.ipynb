{
 "cells": [
  {
   "cell_type": "markdown",
   "metadata": {},
   "source": [
    "# Lecture 5, In class Exercise 2\n",
    "Add a static attribute to class Apple to keep track of # of apples\n",
    "Update constructor of Apple to increment the static variable\n",
    "Add a static method to class Apple that returns the # of apples\n",
    "Print out the number of apples using the static method, then create the 3 apples in a list as before, \n",
    "   then print out the new number of apples\n"
   ]
  },
  {
   "cell_type": "code",
   "execution_count": 4,
   "metadata": {},
   "outputs": [
    {
     "name": "stdout",
     "output_type": "stream",
     "text": [
      "# of apples is 0\n",
      "[<__main__.Apple object at 0x104f61860>, <__main__.Apple object at 0x104f61908>, <__main__.Apple object at 0x104f61ba8>]\n",
      "# of apples is 3\n"
     ]
    }
   ],
   "source": [
    "# Version 4\n",
    "# add static attribute, update constructor change, add static method\n",
    "\n",
    "class Vegetable(object):\n",
    "    pass\n",
    "\n",
    "class Apple(Vegetable):\n",
    "    count = 0                 # Outside of a method so this attribute applies to the class. Initialized once for class\n",
    "\n",
    "    def __init__(self, name):\n",
    "        self.name = name\n",
    "        Apple.count += 1     # Increment counter in our constructor\n",
    "\n",
    "    @staticmethod\n",
    "    def numApples():\n",
    "        return(Apple.count)\n",
    "    \n",
    "# print out # of Apples before we begin\n",
    "print(\"# of apples is\", Apple.numApples())\n",
    "\n",
    "# Create a list of apples\n",
    "aList = []\n",
    "aList.append(Apple(\"Golden Delicious\"))\n",
    "aList.append(Apple(\"Honey Crisp\"))\n",
    "aList.append(Apple(\"Gravenstein\"))\n",
    "\n",
    "# print out our object list\n",
    "print(aList)\n",
    "\n",
    "# print out # of Apples now\n",
    "print(\"# of apples is\", Apple.numApples())\n"
   ]
  },
  {
   "cell_type": "code",
   "execution_count": 8,
   "metadata": {},
   "outputs": [
    {
     "name": "stdout",
     "output_type": "stream",
     "text": [
      "# of apples is 0\n",
      "Apple being created!!\n",
      "Apple being created!!\n",
      "Apple being created!!\n",
      "[<__main__.Apple object at 0x105001358>, <__main__.Apple object at 0x105001208>, <__main__.Apple object at 0x1050013c8>]\n",
      "# of apples is 3\n",
      "Apple is being destroyed!!\n",
      "Apple is being destroyed!!\n",
      "Apple is being destroyed!!\n",
      "# of apples is 0\n"
     ]
    }
   ],
   "source": [
    "# Version 5 \n",
    "# Now let's try to manage object deletion as well as creation\n",
    "\n",
    "class Vegetable(object):\n",
    "    pass\n",
    "\n",
    "class Apple(Vegetable):\n",
    "    count = 0                 # Outside of a method so this attribute applies to the class. Initialized once for class\n",
    "\n",
    "    def __init__(self, name):\n",
    "        self.name = name\n",
    "        Apple.count += 1     # Increment counter in our constructor\n",
    "        print(\"Apple being created!!\")\n",
    "\n",
    "    def __del__(self):       # Turns out there is a destructor method as well that we can use to keep count accurate\n",
    "        Apple.count -= 1\n",
    "        print(\"Apple is being destroyed!!\")\n",
    "        \n",
    "    @staticmethod\n",
    "    def numApples():\n",
    "        return(Apple.count)\n",
    "    \n",
    "# print out # of Apples before we begin\n",
    "print(\"# of apples is\", Apple.numApples())\n",
    "\n",
    "# Create a list of apples\n",
    "aList = []\n",
    "aList.append(Apple(\"Golden Delicious\"))\n",
    "aList.append(Apple(\"Honey Crisp\"))\n",
    "aList.append(Apple(\"Gravenstein\"))\n",
    "\n",
    "# print out our object list\n",
    "print(aList)\n",
    "\n",
    "# print out # of Apples now\n",
    "print(\"# of apples is\", Apple.numApples())\n",
    "\n",
    "# Now let's delete the objects \n",
    "aList.pop()\n",
    "aList.pop()\n",
    "aList.pop()\n",
    "\n",
    "print(\"# of apples is\", Apple.numApples())\n"
   ]
  }
 ],
 "metadata": {
  "kernelspec": {
   "display_name": "Python 3",
   "language": "python",
   "name": "python3"
  },
  "language_info": {
   "codemirror_mode": {
    "name": "ipython",
    "version": 3
   },
   "file_extension": ".py",
   "mimetype": "text/x-python",
   "name": "python",
   "nbconvert_exporter": "python",
   "pygments_lexer": "ipython3",
   "version": "3.6.8"
  }
 },
 "nbformat": 4,
 "nbformat_minor": 2
}
