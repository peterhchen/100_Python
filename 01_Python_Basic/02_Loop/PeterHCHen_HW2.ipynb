﻿{
 "cells": [
  {
   "cell_type": "code",
   "execution_count": null,
   "metadata": {},
   "outputs": [],
   "source": [
    "In Jupiter, create a new notebook named name_HW2.ipynb (replacing name with your name). \n",
    "Include the following snippets of code that run cleanly in 1 cell per question. \n",
    "Submit the .ipynb file for the homework"
   ]
  },
  {
   "cell_type": "code",
   "execution_count": null,
   "metadata": {},
   "outputs": [],
   "source": [
    "1. Get a posiive number from the user and convert it into float. Then divide it by 5 in the print function."
   ]
  },
  {
   "cell_type": "code",
   "execution_count": 33,
   "metadata": {},
   "outputs": [
    {
     "name": "stdout",
     "output_type": "stream",
     "text": [
      "Input a positive number: 5\n",
      "a / 5:  1.0\n"
     ]
    }
   ],
   "source": [
    "a = int(input(\"Input a positive number: \"))\n",
    "if (a > 0):\n",
    "    a = float (a)\n",
    "    print ('a / 5: ', a/5)\n",
    "else:\n",
    "    print ('Sorry. I cannot convert a negative number')"
   ]
  },
  {
   "cell_type": "code",
   "execution_count": null,
   "metadata": {},
   "outputs": [],
   "source": [
    "2. Use two print functions to print \"Daily\" and \"Practice\"\n",
    "    In two separate lines\n",
    "    In the same line"
   ]
  },
  {
   "cell_type": "code",
   "execution_count": 35,
   "metadata": {},
   "outputs": [
    {
     "name": "stdout",
     "output_type": "stream",
     "text": [
      "Print separte lines:\n",
      "Daily\n",
      "Practice\n",
      "Print the same line: \n",
      "Daily Practice\n"
     ]
    }
   ],
   "source": [
    "print ('Print separte lines:')\n",
    "print ('Daily')\n",
    "print ('Practice')\n",
    "print ('Print the same line: ')\n",
    "print ('Daily', 'Practice')"
   ]
  },
  {
   "cell_type": "code",
   "execution_count": null,
   "metadata": {},
   "outputs": [],
   "source": [
    "3. Ask the user to input an integer. Square the number and then print them using the format:\n",
    "“Your number was x, and your number squared is y\"\n",
    "Use format specifiers. Include single and multiple line comments to explain the code."
   ]
  },
  {
   "cell_type": "code",
   "execution_count": 3,
   "metadata": {},
   "outputs": [
    {
     "name": "stdout",
     "output_type": "stream",
     "text": [
      "Input an integer number: 4\n",
      "Your number was 4, and your nubmer squared is 16\n"
     ]
    }
   ],
   "source": [
    "import math\n",
    "x = int(input (\"Input an integer number: \"))\n",
    "# Note: if x = 4, sqaure = x ** 2 = 16, sqaure-root = 2 \n",
    "y = math.pow (x, 2)\n",
    "print (\"Your number was %d, and your nubmer squared is %d\" %(x, y)) \n",
    "# first %d: integer of x\n",
    "# second %d: integer of y"
   ]
  },
  {
   "cell_type": "code",
   "execution_count": null,
   "metadata": {},
   "outputs": [],
   "source": [
    "4. Perform appropriate operations to remove space and; from string1 where string1 = \" it rained a lot “. Print the result"
   ]
  },
  {
   "cell_type": "code",
   "execution_count": 22,
   "metadata": {
    "scrolled": true
   },
   "outputs": [
    {
     "name": "stdout",
     "output_type": "stream",
     "text": [
      "string1: \" it rained a lot; \"\n",
      "Remove all spaces and ; from string1: \"itrainedalot\"\n"
     ]
    }
   ],
   "source": [
    "string1 = \" it rained a lot; \"\n",
    "print (\"string1: \\\"\" + string1 + \"\\\"\")\n",
    "# Cascade replace \";\" with \"\" first and then replace \" \" with \"\"\n",
    "print (\"Remove all spaces and ; from string1: \\\"\" + string1.replace(\";\", \"\").replace (\" \", \"\") + \"\\\"\")"
   ]
  },
  {
   "cell_type": "code",
   "execution_count": null,
   "metadata": {},
   "outputs": [],
   "source": [
    "5. Assume w = \"Anthem\", convert w to uppercase. Use find method to locate the index where \"TH\" appears in w. Print the results"
   ]
  },
  {
   "cell_type": "code",
   "execution_count": 36,
   "metadata": {},
   "outputs": [
    {
     "name": "stdout",
     "output_type": "stream",
     "text": [
      "Uppercase =  ANTHEM\n",
      "TH index =  2\n"
     ]
    }
   ],
   "source": [
    "w = \"Anthem\"\n",
    "result = w.upper()\n",
    "print (\"Uppercase = \", result)\n",
    "print (\"TH index = \", result.index(\"TH\"))\n",
    "# print (\"TH index = \", result.upper().index(\"TH\"))"
   ]
  },
  {
   "cell_type": "code",
   "execution_count": null,
   "metadata": {},
   "outputs": [],
   "source": [
    "6. Assume x = -11. Use if-elif-else clause to check if x is less than -20, x is -20, or x > -20."
   ]
  },
  {
   "cell_type": "code",
   "execution_count": 39,
   "metadata": {},
   "outputs": [
    {
     "name": "stdout",
     "output_type": "stream",
     "text": [
      "x > -20\n"
     ]
    }
   ],
   "source": [
    "x = -11\n",
    "#x = -20\n",
    "#x = -30\n",
    "if (x < -20):\n",
    "    print (\"x < -20\")\n",
    "elif (x == -20):\n",
    "    print (\"x == -20\")\n",
    "else: \n",
    "    print (\"x > -20\")"
   ]
  },
  {
   "cell_type": "code",
   "execution_count": null,
   "metadata": {},
   "outputs": [],
   "source": [
    "7 Assume brange = range(2, 16)\n",
    "Loop through brange and find all the numbers that are divisible by 3 and print them.\n",
    "Loop through brange and find only the first multiple of 3 and print it."
   ]
  },
  {
   "cell_type": "code",
   "execution_count": 65,
   "metadata": {},
   "outputs": [
    {
     "name": "stdout",
     "output_type": "stream",
     "text": [
      "all divisble by 3\n",
      "3\n",
      "6\n",
      "9\n",
      "12\n",
      "15\n",
      "first divisble by 3\n",
      "3\n"
     ]
    }
   ],
   "source": [
    "brange=range(2,16)\n",
    "# all number divisible by 3\n",
    "print (\"all divisble by 3\")\n",
    "for i in brange:\n",
    "    if (i % 3 == 0):\n",
    "        print (i)\n",
    "    \n",
    "# first number divisible by 3\n",
    "print (\"first divisble by 3\")\n",
    "for i in brange:\n",
    "    if (i % 3 == 0):\n",
    "        print (i)\n",
    "        break"
   ]
  },
  {
   "cell_type": "code",
   "execution_count": null,
   "metadata": {},
   "outputs": [],
   "source": [
    "8. For x = 97, write a while-loop and increment x and print x. Then exit the loop when x =101."
   ]
  },
  {
   "cell_type": "code",
   "execution_count": 1,
   "metadata": {},
   "outputs": [
    {
     "name": "stdout",
     "output_type": "stream",
     "text": [
      "97\n",
      "98\n",
      "99\n",
      "100\n",
      "101\n"
     ]
    }
   ],
   "source": [
    "x = 97\n",
    "while (x):\n",
    "    print (x)\n",
    "    if (x == 101):\n",
    "        break\n",
    "    x = x + 1"
   ]
  },
  {
   "cell_type": "code",
   "execution_count": null,
   "metadata": {},
   "outputs": [],
   "source": [
    "9 Write a for-loop that loops through range(5) and doesn’t do anything."
   ]
  },
  {
   "cell_type": "code",
   "execution_count": 45,
   "metadata": {},
   "outputs": [
    {
     "name": "stdout",
     "output_type": "stream",
     "text": [
      "done\n"
     ]
    }
   ],
   "source": [
    "# Use pass for do nothing\n",
    "for i in range (5):\n",
    "    # does't do anhting\n",
    "    pass\n",
    "    #print (i)\n",
    "print (\"done\")"
   ]
  },
  {
   "cell_type": "code",
   "execution_count": null,
   "metadata": {},
   "outputs": [],
   "source": [
    "10. initialize a string to your favorite quotation (movie, poetry, historical, etc). \n",
    "Print it out. \n",
    "Print the length of it. \n",
    "Build a for loop that counts the number of characters in it. \n",
    "If a “p” is encountered, use the continue statement to avoid incrementing your counter. \n",
    "At the end, print how many characters there are in your quote excluding “p”s. "
   ]
  },
  {
   "cell_type": "code",
   "execution_count": 73,
   "metadata": {},
   "outputs": [
    {
     "name": "stdout",
     "output_type": "stream",
     "text": [
      "Quote string = \"Terminator, Poetic Paul puts pen to paper, American Revolution (1775-1783)\"\n",
      "Length of quote string =  74\n",
      "Total Characters count in quote =  74\n",
      "Characters count in quote excluding \"p's\" =  70\n"
     ]
    }
   ],
   "source": [
    "string = \"Terminator, Poetic Paul puts pen to paper, American Revolution (1775-1783)\"\n",
    "print (\"Quote string = \\\"\" + string + \"\\\"\")\n",
    "print (\"Length of quote string = \", len (string))\n",
    "cCnt = 0\n",
    "noPCnt = 0\n",
    "for c in string:\n",
    "    if (c == 'p'):\n",
    "        cCnt = cCnt + 1;\n",
    "        continue\n",
    "    else:\n",
    "        noPCnt = noPCnt + 1\n",
    "    cCnt = cCnt + 1;\n",
    "    \n",
    "print (\"Total Characters count in quote = \", cCnt)        \n",
    "print (\"Characters count in quote excluding \\\"p's\\\" = \", noPCnt)"
   ]
  },
  {
   "cell_type": "code",
   "execution_count": 74,
   "metadata": {},
   "outputs": [
    {
     "data": {
      "text/plain": [
       "'C:\\\\Users\\\\14088'"
      ]
     },
     "execution_count": 74,
     "metadata": {},
     "output_type": "execute_result"
    }
   ],
   "source": [
    "pwd"
   ]
  }
 ],
 "metadata": {
  "kernelspec": {
   "display_name": "Python 3",
   "language": "python",
   "name": "python3"
  },
  "language_info": {
   "codemirror_mode": {
    "name": "ipython",
    "version": 3
   },
   "file_extension": ".py",
   "mimetype": "text/x-python",
   "name": "python",
   "nbconvert_exporter": "python",
   "pygments_lexer": "ipython3",
   "version": "3.7.3"
  }
 },
 "nbformat": 4,
 "nbformat_minor": 2
}
