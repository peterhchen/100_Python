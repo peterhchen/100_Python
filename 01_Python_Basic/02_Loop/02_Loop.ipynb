{
 "cells": [
  {
   "cell_type": "markdown",
   "metadata": {},
   "source": [
    "# Input"
   ]
  },
  {
   "cell_type": "code",
   "execution_count": 3,
   "metadata": {
    "scrolled": true
   },
   "outputs": [
    {
     "name": "stdout",
     "output_type": "stream",
     "text": [
      "What is your name friend?Wayne\n",
      "Wayne <class 'str'>\n"
     ]
    }
   ],
   "source": [
    "# Simple input. Note: It's always a string\n",
    "a1 = input(\"What is your name friend?\")\n",
    "print(a1, type(a1))"
   ]
  },
  {
   "cell_type": "code",
   "execution_count": 10,
   "metadata": {},
   "outputs": [
    {
     "name": "stdout",
     "output_type": "stream",
     "text": [
      "Please enter an integer:30\n",
      "30\n"
     ]
    }
   ],
   "source": [
    "# If we know it's an integer, we can convert the string directly\n",
    "a1 = int(input(\"Please enter an integer:\"))\n",
    "print(a1)"
   ]
  },
  {
   "cell_type": "code",
   "execution_count": 8,
   "metadata": {},
   "outputs": [
    {
     "name": "stdout",
     "output_type": "stream",
     "text": [
      "Please enter an integer:30\n",
      "30\n"
     ]
    }
   ],
   "source": [
    "# Or we can do 2 separate steps \n",
    "a1 = input(\"Please enter an integer:\")\n",
    "a1 = int(a1)\n",
    "print(a1)"
   ]
  },
  {
   "cell_type": "markdown",
   "metadata": {},
   "source": [
    "# Formatted Output"
   ]
  },
  {
   "cell_type": "code",
   "execution_count": 11,
   "metadata": {},
   "outputs": [
    {
     "name": "stdout",
     "output_type": "stream",
     "text": [
      "10\n"
     ]
    }
   ],
   "source": [
    "print(10)"
   ]
  },
  {
   "cell_type": "code",
   "execution_count": 12,
   "metadata": {},
   "outputs": [
    {
     "name": "stdout",
     "output_type": "stream",
     "text": [
      "10\n"
     ]
    }
   ],
   "source": [
    "print(\"10\")"
   ]
  },
  {
   "cell_type": "code",
   "execution_count": 13,
   "metadata": {},
   "outputs": [
    {
     "name": "stdout",
     "output_type": "stream",
     "text": [
      "the number is 10\n"
     ]
    }
   ],
   "source": [
    "print(\"the number is\", 10) # Note the space inserted at the end"
   ]
  },
  {
   "cell_type": "code",
   "execution_count": 40,
   "metadata": {},
   "outputs": [
    {
     "name": "stdout",
     "output_type": "stream",
     "text": [
      "b is 789 b-1 is 788 b-2 is 787\n"
     ]
    }
   ],
   "source": [
    "b = 789\n",
    "print(\"b is\", b, \"b-1 is\", b-1, \"b-2 is\", b-2) "
   ]
  },
  {
   "cell_type": "code",
   "execution_count": 41,
   "metadata": {},
   "outputs": [
    {
     "name": "stdout",
     "output_type": "stream",
     "text": [
      "TallGrass\n"
     ]
    }
   ],
   "source": [
    "print(\"Tall\"+\"Grass\") # Note no “ “ added between"
   ]
  },
  {
   "cell_type": "code",
   "execution_count": 42,
   "metadata": {},
   "outputs": [
    {
     "name": "stdout",
     "output_type": "stream",
     "text": [
      "*****\n"
     ]
    }
   ],
   "source": [
    "print(\"*\"*5)"
   ]
  },
  {
   "cell_type": "code",
   "execution_count": 43,
   "metadata": {},
   "outputs": [
    {
     "name": "stdout",
     "output_type": "stream",
     "text": [
      "10\n",
      "11\n"
     ]
    }
   ],
   "source": [
    "print(10)\n",
    "print(11)"
   ]
  },
  {
   "cell_type": "code",
   "execution_count": 44,
   "metadata": {},
   "outputs": [
    {
     "name": "stdout",
     "output_type": "stream",
     "text": [
      "10\n",
      "11\n"
     ]
    }
   ],
   "source": [
    "print(10);print(11) # \";\" Enables stmts on one line, but still prints 2"
   ]
  },
  {
   "cell_type": "code",
   "execution_count": 47,
   "metadata": {},
   "outputs": [
    {
     "name": "stdout",
     "output_type": "stream",
     "text": [
      "10!!11\n"
     ]
    }
   ],
   "source": [
    "print(10, end=\"!!\"); print(11) # the end=\"!!\" avoids newline"
   ]
  },
  {
   "cell_type": "code",
   "execution_count": 48,
   "metadata": {},
   "outputs": [
    {
     "name": "stdout",
     "output_type": "stream",
     "text": [
      "We are closer to Sunnvayle than San Francisco\n"
     ]
    }
   ],
   "source": [
    "print(\"We are closer to {0} than {1}\".format(\"Sunnvayle\",\"San Francisco\"))"
   ]
  },
  {
   "cell_type": "code",
   "execution_count": 49,
   "metadata": {},
   "outputs": [
    {
     "name": "stdout",
     "output_type": "stream",
     "text": [
      "We are closer to Sunnvayle than San Francisco\n"
     ]
    }
   ],
   "source": [
    "sanFran = \"San Francisco\"\n",
    "print(\"We are closer to {city1} than {b}\".format(city1=\"Sunnvayle\",b=sanFran))"
   ]
  },
  {
   "cell_type": "code",
   "execution_count": 16,
   "metadata": {},
   "outputs": [
    {
     "name": "stdout",
     "output_type": "stream",
     "text": [
      "The 10 toys cost $12.450000\n"
     ]
    }
   ],
   "source": [
    "count = 2\n",
    "objs = \"toys\"\n",
    "price = 12.45\n",
    "print(\"The %d %s cost $%f\" %(int(\"10\"),objs,price))"
   ]
  },
  {
   "cell_type": "code",
   "execution_count": 20,
   "metadata": {},
   "outputs": [
    {
     "name": "stdout",
     "output_type": "stream",
     "text": [
      "The value of Pi is 3000.142\n"
     ]
    }
   ],
   "source": [
    "PI = 3000.1415\n",
    "print(\"The value of Pi is %0.3f\" %PI)"
   ]
  },
  {
   "cell_type": "code",
   "execution_count": 26,
   "metadata": {},
   "outputs": [
    {
     "name": "stdout",
     "output_type": "stream",
     "text": [
      "The value of Pi is: 3.14\n"
     ]
    }
   ],
   "source": [
    "PI = 3.1415\n",
    "print(\"The value of Pi is: {:0.2f}\".format(PI))"
   ]
  },
  {
   "cell_type": "markdown",
   "metadata": {},
   "source": [
    "# Strings"
   ]
  },
  {
   "cell_type": "code",
   "execution_count": 28,
   "metadata": {},
   "outputs": [
    {
     "name": "stdout",
     "output_type": "stream",
     "text": [
      "6\n"
     ]
    }
   ],
   "source": [
    "string1 = \"Python\"\n",
    "print(len(string1))"
   ]
  },
  {
   "cell_type": "code",
   "execution_count": 30,
   "metadata": {},
   "outputs": [
    {
     "name": "stdout",
     "output_type": "stream",
     "text": [
      "PythonFun\n",
      "Python Fun\n"
     ]
    }
   ],
   "source": [
    "string1 = \"Python\"\n",
    "string2 = \"Fun\"\n",
    "print(string1 + string2)\n",
    "print(string1 + \" \" + string2)"
   ]
  },
  {
   "cell_type": "code",
   "execution_count": 31,
   "metadata": {},
   "outputs": [
    {
     "name": "stdout",
     "output_type": "stream",
     "text": [
      "P\n",
      "y\n",
      "t\n",
      "h\n",
      "o\n",
      "n\n"
     ]
    }
   ],
   "source": [
    "string1 = \"Python\"\n",
    "for item in string1:\n",
    "    print(item)"
   ]
  },
  {
   "cell_type": "code",
   "execution_count": 36,
   "metadata": {},
   "outputs": [
    {
     "name": "stdout",
     "output_type": "stream",
     "text": [
      "True\n",
      "False\n"
     ]
    }
   ],
   "source": [
    "string1 = \"Python\"\n",
    "print('y' in string1)\n",
    "print('z' in string1)"
   ]
  },
  {
   "cell_type": "code",
   "execution_count": 21,
   "metadata": {},
   "outputs": [
    {
     "name": "stdout",
     "output_type": "stream",
     "text": [
      "4\n"
     ]
    }
   ],
   "source": [
    "string1 = \"Python\"\n",
    "print(string1.find(\"o\"))"
   ]
  },
  {
   "cell_type": "code",
   "execution_count": 35,
   "metadata": {},
   "outputs": [
    {
     "name": "stdout",
     "output_type": "stream",
     "text": [
      "-1\n"
     ]
    }
   ],
   "source": [
    "string1 = \"Python\"\n",
    "print(string1.find(\"z\", 0, len(string1))) # note this returns -1"
   ]
  },
  {
   "cell_type": "code",
   "execution_count": 51,
   "metadata": {},
   "outputs": [
    {
     "name": "stdout",
     "output_type": "stream",
     "text": [
      "2\n"
     ]
    }
   ],
   "source": [
    "string1 = \"Python\"\n",
    "print(string1.index(\"th\", 0, len(string1)))\n",
    "# Note if this fails, return is value_error: substring not found, not -1"
   ]
  },
  {
   "cell_type": "code",
   "execution_count": 22,
   "metadata": {},
   "outputs": [
    {
     "name": "stdout",
     "output_type": "stream",
     "text": [
      "python\n",
      "Python\n"
     ]
    }
   ],
   "source": [
    "string1 = \"Python\"\n",
    "print(string1.lower())\n",
    "print(string1) # Note original string is not affected, it was a copy"
   ]
  },
  {
   "cell_type": "code",
   "execution_count": 39,
   "metadata": {},
   "outputs": [
    {
     "name": "stdout",
     "output_type": "stream",
     "text": [
      "PYTHON\n"
     ]
    }
   ],
   "source": [
    "string1 = \"Python\"\n",
    "print(string1.upper())"
   ]
  },
  {
   "cell_type": "code",
   "execution_count": 24,
   "metadata": {},
   "outputs": [
    {
     "name": "stdout",
     "output_type": "stream",
     "text": [
      "Hazzaa What Happens\n"
     ]
    }
   ],
   "source": [
    "string2 = \"hazzaa what happens\"\n",
    "print(string2.title())"
   ]
  },
  {
   "cell_type": "code",
   "execution_count": 52,
   "metadata": {},
   "outputs": [
    {
     "name": "stdout",
     "output_type": "stream",
     "text": [
      "Python rules\n"
     ]
    }
   ],
   "source": [
    "print(\"  Python rules \".strip()) # by default it removes space fr/bk"
   ]
  },
  {
   "cell_type": "code",
   "execution_count": 35,
   "metadata": {},
   "outputs": [
    {
     "name": "stdout",
     "output_type": "stream",
     "text": [
      "ch that hurt\n"
     ]
    }
   ],
   "source": [
    "print(\"Ouch that hurts!!\".strip(\"suO!\")) # but you can remove other ch's"
   ]
  },
  {
   "cell_type": "code",
   "execution_count": 44,
   "metadata": {},
   "outputs": [
    {
     "name": "stdout",
     "output_type": "stream",
     "text": [
      "['Dynamic', 'typing']\n"
     ]
    }
   ],
   "source": [
    "print(\"Dynamic typing\".split())"
   ]
  },
  {
   "cell_type": "code",
   "execution_count": 45,
   "metadata": {},
   "outputs": [
    {
     "name": "stdout",
     "output_type": "stream",
     "text": [
      "['one thousand', ' two thousand']\n"
     ]
    }
   ],
   "source": [
    "print(\"one thousand, two thousand\".split(\",\"))"
   ]
  },
  {
   "cell_type": "code",
   "execution_count": 47,
   "metadata": {},
   "outputs": [
    {
     "name": "stdout",
     "output_type": "stream",
     "text": [
      "sunny**weather\n"
     ]
    }
   ],
   "source": [
    "list1 = [\"sunny\", \"weather\"]\n",
    "delimiter = \"**\"\n",
    "print(delimiter.join(list1))"
   ]
  },
  {
   "cell_type": "markdown",
   "metadata": {},
   "source": [
    "# --------- if, elif ---------"
   ]
  },
  {
   "cell_type": "code",
   "execution_count": 14,
   "metadata": {},
   "outputs": [
    {
     "name": "stdout",
     "output_type": "stream",
     "text": [
      "Good evening\n"
     ]
    }
   ],
   "source": [
    "import datetime\n",
    "currentDT = datetime.datetime.now()\n",
    "if(currentDT.hour < 12):\n",
    "    print(\"Good Morning!\")\n",
    "elif(currentDT.hour < 19):\n",
    "    print(\"Good afternoon\")\n",
    "else:\n",
    "    print(\"Good evening\")"
   ]
  },
  {
   "cell_type": "code",
   "execution_count": 15,
   "metadata": {},
   "outputs": [
    {
     "name": "stdout",
     "output_type": "stream",
     "text": [
      "enter a word: foobar\n"
     ]
    }
   ],
   "source": [
    "# 1 branch example\n",
    "user_input = input(\"enter a word: \")\n",
    "if (user_input == \"code\"):\n",
    "    print(\"You entered a cool word!\")"
   ]
  },
  {
   "cell_type": "code",
   "execution_count": 16,
   "metadata": {},
   "outputs": [
    {
     "name": "stdout",
     "output_type": "stream",
     "text": [
      "What is your age? 43\n",
      "Welcome. You are allowed to enter\n"
     ]
    }
   ],
   "source": [
    "# 2 branch example\n",
    "x = int(input(\"What is your age? \"))\n",
    "if(x < 21):\n",
    "    print(\"Sorry, you need to be 21 to come in here\")\n",
    "else:\n",
    "    print(\"Welcome. You are allowed to enter\")"
   ]
  },
  {
   "cell_type": "code",
   "execution_count": 18,
   "metadata": {},
   "outputs": [
    {
     "name": "stdout",
     "output_type": "stream",
     "text": [
      "Please enter your net worth:234\n",
      "Nice. congratulations on your saving\n"
     ]
    }
   ],
   "source": [
    "# 3 branch example\n",
    "x = int(input(\"Please enter your net worth:\"))\n",
    "if (x < 0):\n",
    "    print(\"Sorry about that. I guess you need a loan\")\n",
    "elif (x == 0):\n",
    "    print(\"Hmm. You need to save more\")\n",
    "else:\n",
    "    print(\"Nice. congratulations on your saving\")"
   ]
  },
  {
   "cell_type": "markdown",
   "metadata": {},
   "source": [
    "## ---------- Ranges ---------"
   ]
  },
  {
   "cell_type": "code",
   "execution_count": null,
   "metadata": {},
   "outputs": [],
   "source": [
    "# 1 range() example. Note that a negative value results in empty list\n",
    "a = range(4)\n",
    "b = range(-4)\n",
    "print(a,b);\n",
    "print(list(a),list(b))"
   ]
  },
  {
   "cell_type": "code",
   "execution_count": null,
   "metadata": {},
   "outputs": [],
   "source": [
    "# 2 range() example. Note that a negative value results in empty list\n",
    "a = range(-3, 3)\n",
    "b = range(4, -4)\n",
    "print(list(a), list(b))"
   ]
  },
  {
   "cell_type": "code",
   "execution_count": null,
   "metadata": {},
   "outputs": [],
   "source": [
    "# 3 range() Example. \n",
    "# Note they don't have to end evenly at end of range\n",
    "# Note that -1 counts downward\n",
    "a = range(2, 7, 3) \n",
    "b = range(9, 1, -2)\n",
    "print(list(a), list(b))"
   ]
  },
  {
   "cell_type": "markdown",
   "metadata": {},
   "source": [
    "## --------- for loops ---------"
   ]
  },
  {
   "cell_type": "code",
   "execution_count": null,
   "metadata": {},
   "outputs": [],
   "source": [
    "# 1 For loop example\n",
    "s1 = \"code\"\n",
    "for s in s1:\n",
    "    print(s)"
   ]
  },
  {
   "cell_type": "code",
   "execution_count": null,
   "metadata": {},
   "outputs": [],
   "source": [
    "# 2 For loop example\n",
    "s2 = 4\n",
    "# try the first for statement below. It doesn't work. Why not, and why does the second?\n",
    "#for s in s2:\n",
    "for s in range(s2):\n",
    "    print(s)\n",
    "s3 = range(s2)\n",
    "print(s3)"
   ]
  },
  {
   "cell_type": "code",
   "execution_count": null,
   "metadata": {},
   "outputs": [],
   "source": [
    "# 3 For loop example (Note: just a thought exercise, not useful)\n",
    "b1 = True\n",
    "# try the first for statement below. It doesn't work. \n",
    "# Why not, and why does the second? Why does it print only 0, and not False\n",
    "#for b in b1:\n",
    "for b in range(b1):\n",
    "    print(b)"
   ]
  },
  {
   "cell_type": "markdown",
   "metadata": {},
   "source": [
    "# ------ While ------"
   ]
  },
  {
   "cell_type": "code",
   "execution_count": null,
   "metadata": {},
   "outputs": [],
   "source": [
    "# 1 While Example\n",
    "x = 4\n",
    "while (x < 7):\n",
    "    print(x)\n",
    "    x = x + 1"
   ]
  },
  {
   "cell_type": "code",
   "execution_count": null,
   "metadata": {},
   "outputs": [],
   "source": [
    "# 2 While example (NEVER EXECUTES)\n",
    "a = 20\n",
    "while (a < 10):\n",
    "    print(a)\n",
    "    a = a-1"
   ]
  },
  {
   "cell_type": "code",
   "execution_count": null,
   "metadata": {},
   "outputs": [],
   "source": [
    "# 3 While example. Get input until sentinel value reached\n",
    "# x = 0\n",
    "while(x != -1):\n",
    "    x = int(input(\"Enter value to cube, -1 to quit:\"))\n",
    "    print(x*x*x)\n",
    "print(\"Done\")"
   ]
  },
  {
   "cell_type": "markdown",
   "metadata": {},
   "source": [
    "## ------- Control statements ---------"
   ]
  },
  {
   "cell_type": "code",
   "execution_count": null,
   "metadata": {},
   "outputs": [],
   "source": [
    "#1 Break example\n",
    "string1 = \"Python\"\n",
    "for item in string1:\n",
    "    if(item == \"h\"):\n",
    "        break\n",
    "    print(item)"
   ]
  },
  {
   "cell_type": "code",
   "execution_count": null,
   "metadata": {},
   "outputs": [],
   "source": [
    "# 1 continue example\n",
    "string1 = \"Python\"\n",
    "for item in string1:\n",
    "    if(item == \"h\"):\n",
    "        print(\"We Found h!!\")\n",
    "        continue\n",
    "    print(item)"
   ]
  },
  {
   "cell_type": "code",
   "execution_count": null,
   "metadata": {},
   "outputs": [],
   "source": [
    "# 1 pass example\n",
    "string1 = \"The quick brown fox\"\n",
    "for item in string1:\n",
    "    pass"
   ]
  },
  {
   "cell_type": "code",
   "execution_count": null,
   "metadata": {},
   "outputs": [],
   "source": [
    "# 1 mutability example:\n",
    "a = 10\n",
    "b = a\n",
    "# At this point object ID’s of these two objects are identical\n",
    "print(id(a),id(b))\n",
    "b = b + 20\n",
    "# Now they are different\n",
    "print(id(a),id(b))"
   ]
  },
  {
   "cell_type": "code",
   "execution_count": null,
   "metadata": {},
   "outputs": [],
   "source": [
    "# 2 mutabilty example\n",
    "word = \"game\"\n",
    "#word[0] = \"l\"\n",
    "# instead of you have to build a new string\n",
    "word = \"l\" + \"ame\"\n",
    "print(word)"
   ]
  }
 ],
 "metadata": {
  "kernelspec": {
   "display_name": "Python 3",
   "language": "python",
   "name": "python3"
  },
  "language_info": {
   "codemirror_mode": {
    "name": "ipython",
    "version": 3
   },
   "file_extension": ".py",
   "mimetype": "text/x-python",
   "name": "python",
   "nbconvert_exporter": "python",
   "pygments_lexer": "ipython3",
   "version": "3.7.1"
  }
 },
 "nbformat": 4,
 "nbformat_minor": 2
}
