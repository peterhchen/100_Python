{
 "cells": [
  {
   "cell_type": "code",
   "execution_count": null,
   "metadata": {},
   "outputs": [],
   "source": [
    "Homework 4: File I/O, Errors + Exception Handling, Built-In Modules\n",
    "\n",
    "Before performing the File I/O exercise, run the following code\n",
    "# Initialize our file to show the other operations\n",
    "f = open(\"text1.txt\", \"w\")\n",
    "list = [1,3,5,2]\n",
    "for i in list:\n",
    "    str = \"Bear\" + \"\\n\"*i\n",
    "    f.write(str)\n",
    "f.close()"
   ]
  },
  {
   "cell_type": "code",
   "execution_count": 2,
   "metadata": {},
   "outputs": [],
   "source": [
    "# Initialize our file to show the other operations\n",
    "f = open(\"text1.txt\", \"w\")\n",
    "list = [1,3,5,2]\n",
    "for i in list:\n",
    "    str = \"Bear\" + \"\\n\"*i\n",
    "    f.write(str)\n",
    "f.close()"
   ]
  },
  {
   "cell_type": "code",
   "execution_count": null,
   "metadata": {},
   "outputs": [],
   "source": [
    "FIle I/O:\n",
    "1. Read file text1.txt and count the number of non-empty lines in the file. \n",
    "Use tell() to find the file pointer’s position."
   ]
  },
  {
   "cell_type": "code",
   "execution_count": 9,
   "metadata": {},
   "outputs": [
    {
     "name": "stdout",
     "output_type": "stream",
     "text": [
      "Read File Position Pointer by f.tell():  6\n",
      "  Original buffer: b'Bear\\r\\n' Stripped \"\\r\" and \"\\n\" Buffer\": b'Bear'\n",
      "Read File Position Pointer by f.tell():  12\n",
      "  Original buffer: b'Bear\\r\\n' Stripped \"\\r\" and \"\\n\" Buffer\": b'Bear'\n",
      "Read File Position Pointer by f.tell():  22\n",
      "  Original buffer: b'Bear\\r\\n' Stripped \"\\r\" and \"\\n\" Buffer\": b'Bear'\n",
      "Read File Position Pointer by f.tell():  36\n",
      "  Original buffer: b'Bear\\r\\n' Stripped \"\\r\" and \"\\n\" Buffer\": b'Bear'\n",
      "non-empty line cnt:  4\n"
     ]
    }
   ],
   "source": [
    "# text1.txt\n",
    "# ...\\n\n",
    "#\\n\n",
    "#...\\n\n",
    "# read line-by-line\n",
    "# skip the empty line\n",
    "# print non-empty line\n",
    "#https://docs.python.org/2/library/stdtypes.html#file.tell\n",
    "# In window, tell() returns a hugh number, use 'rb' instead of 'b'\n",
    "nEmptyCnt = 0\n",
    "f = open(\"text1.txt\", 'rb')\n",
    "for line in f:\n",
    "    # Note: window has \"/r/n\" while Linux/Macs have \"/n\"\n",
    "    # window use srtip (b\"\\n\") instead of strip (\"\\n\") inLInux and Mac\n",
    "    buf1 = line.strip(b\"\\n\").strip (b\"\\r\")\n",
    "    if (line == b\"\\r\\n\"):\n",
    "        # empty line with (\\r\\n)\n",
    "        continue\n",
    "    else:\n",
    "        # non-empty line\n",
    "        print ('Read File Position Pointer by f.tell(): ', f.tell())\n",
    "        print ('  Original buffer:', line, 'Stripped \"\\\\r\" and \"\\\\n\" Buffer\":', buf1)\n",
    "        nEmptyCnt += 1\n",
    "f.close()\n",
    "print ('non-empty line cnt: ', nEmptyCnt)"
   ]
  },
  {
   "cell_type": "code",
   "execution_count": null,
   "metadata": {},
   "outputs": [],
   "source": [
    "2-a. What is the difference between read() and readlines() methods."
   ]
  },
  {
   "cell_type": "code",
   "execution_count": 33,
   "metadata": {
    "scrolled": true
   },
   "outputs": [
    {
     "name": "stdout",
     "output_type": "stream",
     "text": [
      "read() pulls out the whole file:\n",
      "Bear\n",
      "Bear\n",
      "\n",
      "\n",
      "Bear\n",
      "\n",
      "\n",
      "\n",
      "\n",
      "Bear\n",
      "\n",
      "\n",
      "readlines() return a list for the file. Each element in list is a separated line with newline (\\n) at the end: \n",
      "['Bear\\n', 'Bear\\n', '\\n', '\\n', 'Bear\\n', '\\n', '\\n', '\\n', '\\n', 'Bear\\n', '\\n']\n"
     ]
    }
   ],
   "source": [
    "# 2.a\n",
    "# read(): With no parameter read() pulls out the whole file.\n",
    "# whole_file is 6 characters, \"abccde\".\n",
    "# readlines(): return a list for the file. Each element in list is a separated line with newline (\\\\n) at the end.\n",
    "# lines: ['Bear\\n', 'Bear\\n', '\\n', '\\n', 'Bear\\n', '\\n', '\\n', '\\n', '\\n', 'Bear\\n', '\\n']\n",
    "\n",
    "with open(\"text1.txt\", \"r\") as file:\n",
    "    read = file.read()\n",
    "file.close()\n",
    "print ('read() pulls out the whole file:')\n",
    "print(read)\n",
    "with open(\"text1.txt\", \"r\") as file:\n",
    "    readlines = file.readlines()\n",
    "file.close()\n",
    "print (\"readlines() return a list for the file. Each element in list is a separated line with newline (\\\\n) at the end: \")\n",
    "print(readlines)"
   ]
  },
  {
   "cell_type": "code",
   "execution_count": null,
   "metadata": {},
   "outputs": [],
   "source": [
    "2-b. What is the difference between Write and append access modes."
   ]
  },
  {
   "cell_type": "code",
   "execution_count": 15,
   "metadata": {},
   "outputs": [
    {
     "name": "stdout",
     "output_type": "stream",
     "text": [
      "write: one, two, \n",
      "append: one, two, three, four, \n",
      "write again: five, six, \n"
     ]
    }
   ],
   "source": [
    "# 2.b\n",
    "# \"w\" (write): move the file pointer to the begginning of file when write. \n",
    "# If file already exists, it will be erased and over-written.\n",
    "# \"a\" (append): move the file pointer at the end of file when writing.\n",
    "\n",
    "# wtite file. The pointer move to the beginning of file.\n",
    "f = open(\"helloworld.txt\", \"w\")  \n",
    "f.write(\"one, \")\n",
    "f.write(\"two, \")  \n",
    "f.close()\n",
    "print ('write: ', end=\"\")\n",
    "f = open(\"helloworld.txt\") \n",
    "for line in f:\n",
    "    print (line)\n",
    "f.close()\n",
    "\n",
    "\n",
    "# append(): file pointer move to the end of file.\n",
    "f = open(\"helloworld.txt\", \"a\")\n",
    "f.write(\"three, \")\n",
    "f.write(\"four, \")\n",
    "f.close()\n",
    "print ('append: ', end=\"\")\n",
    "f = open(\"helloworld.txt\") \n",
    "for line in f:\n",
    "    print (line)\n",
    "f.close()\n",
    "\n",
    "\n",
    "# wtite file again. The pointer move to the beginning of file.\n",
    "f = open(\"helloworld.txt\", \"w\")  \n",
    "f.write (\"five, \")\n",
    "f.write(\"six, \");    \n",
    "f.close()\n",
    "print ('write again: ', end=\"\")\n",
    "f = open(\"helloworld.txt\") \n",
    "for line in f:\n",
    "    print (line)\n",
    "f.close()"
   ]
  },
  {
   "cell_type": "code",
   "execution_count": null,
   "metadata": {},
   "outputs": [],
   "source": [
    "3. Open a new file called new1.txt and write the lines:  \n",
    "o new operator\n",
    "o new findings\n",
    "o new text\n",
    "4. and then WITHOUT CLOSING IT, \n",
    "seek() back to beginning, and read all the lines. "
   ]
  },
  {
   "cell_type": "code",
   "execution_count": 10,
   "metadata": {},
   "outputs": [
    {
     "name": "stdout",
     "output_type": "stream",
     "text": [
      "Without close the file. Move the file pointer to the beginning of file by seek (0, 0):\n",
      "new operator\n",
      "new findings\n",
      "new text\n"
     ]
    }
   ],
   "source": [
    "# write strings into new1.txt\n",
    "f = open (\"new1.txt\", \"w+\")\n",
    "f.write (\"new operator\\n\")\n",
    "f.write (\"new findings\\n\")\n",
    "f.write (\"new text\")\n",
    "# Without close the file. Move the file pointer to the beginning of file by seek (0, 0)\n",
    "print ('Without close the file. Move the file pointer to the beginning of file by seek (0, 0):')\n",
    "f.seek(0,0)\n",
    "# read all lines\n",
    "lines = f.readlines()\n",
    "# print the lines\n",
    "for line in lines:\n",
    "    line = line.strip(\"\\n\")\n",
    "    print (line)"
   ]
  },
  {
   "cell_type": "code",
   "execution_count": 2,
   "metadata": {},
   "outputs": [],
   "source": [
    "Try/Except handling\n",
    "1. t1 = (10, 11, 12). Perform t1+7 and explain the message."
   ]
  },
  {
   "cell_type": "code",
   "execution_count": 22,
   "metadata": {},
   "outputs": [
    {
     "ename": "TypeError",
     "evalue": "can only concatenate tuple (not \"int\") to tuple",
     "output_type": "error",
     "traceback": [
      "\u001b[1;31m---------------------------------------------------------------------------\u001b[0m",
      "\u001b[1;31mTypeError\u001b[0m                                 Traceback (most recent call last)",
      "\u001b[1;32m<ipython-input-22-17085d53b261>\u001b[0m in \u001b[0;36m<module>\u001b[1;34m\u001b[0m\n\u001b[0;32m      1\u001b[0m \u001b[0mt1\u001b[0m \u001b[1;33m=\u001b[0m \u001b[1;33m(\u001b[0m\u001b[1;36m10\u001b[0m\u001b[1;33m,\u001b[0m \u001b[1;36m11\u001b[0m\u001b[1;33m,\u001b[0m \u001b[1;36m12\u001b[0m\u001b[1;33m)\u001b[0m\u001b[1;33m\u001b[0m\u001b[1;33m\u001b[0m\u001b[0m\n\u001b[1;32m----> 2\u001b[1;33m \u001b[0mt1\u001b[0m\u001b[1;33m+\u001b[0m\u001b[1;36m7\u001b[0m\u001b[1;33m\u001b[0m\u001b[1;33m\u001b[0m\u001b[0m\n\u001b[0m",
      "\u001b[1;31mTypeError\u001b[0m: can only concatenate tuple (not \"int\") to tuple"
     ]
    }
   ],
   "source": [
    "t1 = (10, 11, 12)\n",
    "t1+7\n",
    "# tuple is immutable. Cannot perform concatenation"
   ]
  },
  {
   "cell_type": "code",
   "execution_count": null,
   "metadata": {},
   "outputs": [],
   "source": [
    "2. Write try-except to handle the above tuple concatenation. \n",
    "If there is a problem, then t1 should be concatenated with t2 = (7,) and \n",
    "the result should be stored in t3."
   ]
  },
  {
   "cell_type": "code",
   "execution_count": 1,
   "metadata": {},
   "outputs": [
    {
     "name": "stdout",
     "output_type": "stream",
     "text": [
      "t3 = (10, 11, 12, 7)\n"
     ]
    }
   ],
   "source": [
    "# 2\n",
    "t1 = (10, 11, 12)\n",
    "t2 = (7,)\n",
    "try: \n",
    "    t1+7\n",
    "except TypeError:\n",
    "    t3 = t1+t2\n",
    "print ('t3 =', t3)"
   ]
  },
  {
   "cell_type": "code",
   "execution_count": null,
   "metadata": {},
   "outputs": [],
   "source": [
    "3. Read error handling in Python \n",
    "(https://docs.python.org/3/tutorial/errors.html) \n",
    "(Links to an external site.)Links to an external site.\n",
    "\n",
    "Write try-except-else-finally to implement problem 2 \n",
    "so that there is a message in else clause, \n",
    "and the final value of t3 will be printed by the finally clause."
   ]
  },
  {
   "cell_type": "code",
   "execution_count": 28,
   "metadata": {},
   "outputs": [
    {
     "name": "stdout",
     "output_type": "stream",
     "text": [
      "except t3 = (10, 11, 12, 7)\n",
      "finally t3 = (10, 11, 12, 7)\n"
     ]
    }
   ],
   "source": [
    "# try:\n",
    "# t1 = ..\n",
    "# t2 = \n",
    "# except:\n",
    "# t3 = t1 + t2\n",
    "# else:\n",
    "# t3 = t1 + t2\n",
    "# finally:\n",
    "# print (t3)\n",
    "t1 = (10, 11, 12)\n",
    "t2 = (7,)\n",
    "try: \n",
    "    t1+7\n",
    "except TypeError:\n",
    "    t3 = t1+t2\n",
    "    print ('except t3 =', t3)\n",
    "else:\n",
    "    t3 = t1+t2\n",
    "    print ('else t3 =', t3)\n",
    "finally:\n",
    "    print ('finally t3 =', t3)"
   ]
  },
  {
   "cell_type": "code",
   "execution_count": null,
   "metadata": {},
   "outputs": [],
   "source": [
    "4. Handle index error for list1 = [11, 14, 16] using try-except. \n",
    "If the user is accessing an index 6, \n",
    "then you should print “Item at index 6 is not found.”"
   ]
  },
  {
   "cell_type": "code",
   "execution_count": 2,
   "metadata": {},
   "outputs": [
    {
     "name": "stdout",
     "output_type": "stream",
     "text": [
      "Item at index 6 is not found.\n"
     ]
    }
   ],
   "source": [
    "list1 = [11, 14, 16]\n",
    "try: \n",
    "    print ('try list[6] =', list1[6])\n",
    "except IndexError:\n",
    "    print ('Item at index 6 is not found.')"
   ]
  },
  {
   "cell_type": "code",
   "execution_count": null,
   "metadata": {},
   "outputs": [],
   "source": [
    "Built-In Modules\n",
    "1. Import math module and find the cosine of pi/4. "
   ]
  },
  {
   "cell_type": "code",
   "execution_count": 39,
   "metadata": {},
   "outputs": [
    {
     "name": "stdout",
     "output_type": "stream",
     "text": [
      "math.cos (math.pi/4) = 0.7071067811865476\n"
     ]
    }
   ],
   "source": [
    "# 1. import math\n",
    "# print (cosine (math.pi/4))\n",
    "import math\n",
    "print ('math.cos (math.pi/4) =', math.cos (math.pi/4))\n",
    "#print (math.cos (0))\n",
    "#print (math.cos (math.pi))"
   ]
  },
  {
   "cell_type": "code",
   "execution_count": null,
   "metadata": {},
   "outputs": [],
   "source": [
    "Built-In Modules\n",
    "2. From list2 = [6, 12, 15, 21], randomly choose an element. \n",
    "Then use the pow function from math module to determine that element \n",
    "raised to 3 and print it."
   ]
  },
  {
   "cell_type": "code",
   "execution_count": 12,
   "metadata": {},
   "outputs": [
    {
     "name": "stdout",
     "output_type": "stream",
     "text": [
      "element = 21\n",
      "9261.0\n"
     ]
    }
   ],
   "source": [
    "# 2. random choice\n",
    "import random\n",
    "list2 = [6, 12, 15, 21]\n",
    "ele = random.choice (list2)\n",
    "print ('element =', ele)\n",
    "print (math.pow(ele, 3))"
   ]
  },
  {
   "cell_type": "code",
   "execution_count": null,
   "metadata": {},
   "outputs": [],
   "source": [
    "Built-In Modules\n",
    "3. Use time.clock() to find the time before and time after the for-loop \n",
    "that loops through range(1000) and appends the value to a list \n",
    "called list1. Print the time taken for the loop. "
   ]
  },
  {
   "cell_type": "code",
   "execution_count": 45,
   "metadata": {},
   "outputs": [
    {
     "name": "stdout",
     "output_type": "stream",
     "text": [
      "time start =  3204166157604 ns\n",
      "time stop =  3204166286995 ns\n",
      "time takes =  129391 ns\n",
      "time takes =  129.391 us\n",
      "time takes =  0.129391 ms\n"
     ]
    }
   ],
   "source": [
    "# t1 = time.clock()\n",
    "# time.clock() is deprecated, used time.perf_counter() instead.\n",
    "# for i in 1, 10000\n",
    "#list1.append()\n",
    "# t2.clock()\n",
    "# print T1, t2\n",
    "import time\n",
    "list1 = [0] \n",
    "t1 = time.perf_counter_ns()  # CPU performance time\n",
    "for i in range(1000):\n",
    "    list1.append(i)\n",
    "t2 = time.perf_counter_ns()\n",
    "\n",
    "t3 = t2 - t1  # in ns\n",
    "t4 = t3/1000  # in us\n",
    "t5 = t3/1000000 # in ms\n",
    "#print (list1)\n",
    "print ('time start = ', t1, 'ns')\n",
    "print ('time stop = ', t2, 'ns')\n",
    "print ('time takes = ', t3, 'ns')\n",
    "print ('time takes = ', t4, 'us')\n",
    "print ('time takes = ', t5, 'ms')"
   ]
  },
  {
   "cell_type": "code",
   "execution_count": null,
   "metadata": {},
   "outputs": [],
   "source": []
  }
 ],
 "metadata": {
  "kernelspec": {
   "display_name": "Python 3",
   "language": "python",
   "name": "python3"
  },
  "language_info": {
   "codemirror_mode": {
    "name": "ipython",
    "version": 3
   },
   "file_extension": ".py",
   "mimetype": "text/x-python",
   "name": "python",
   "nbconvert_exporter": "python",
   "pygments_lexer": "ipython3",
   "version": "3.7.3"
  }
 },
 "nbformat": 4,
 "nbformat_minor": 2
}
