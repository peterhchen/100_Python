{
 "cells": [
  {
   "cell_type": "markdown",
   "metadata": {},
   "source": [
    "# Examples of file operations"
   ]
  },
  {
   "cell_type": "code",
   "execution_count": 1,
   "metadata": {},
   "outputs": [],
   "source": [
    "# Initialize our file to show the other operations\n",
    "f = open(\"fruits.txt\", \"w\")\n",
    "f.write(\"Apple\\n\\n\")  # Note that newline needs to be added. \n",
    "f.write(\"Pear\\n\")\n",
    "f.write(\"banana\\n\")\n",
    "f.write(\"   \\n\")\n",
    "f.write(\"Grapes\")\n",
    "f.close()"
   ]
  },
  {
   "cell_type": "code",
   "execution_count": 2,
   "metadata": {
    "scrolled": true
   },
   "outputs": [
    {
     "name": "stdout",
     "output_type": "stream",
     "text": [
      "True\n"
     ]
    }
   ],
   "source": [
    "# file open/close example. Does this create a file if not already present, or not?\n",
    "f = open(\"fruits.txt\", \"r\")\n",
    "f.close()\n",
    "print(f.closed)  # This member shows whether the file is closed"
   ]
  },
  {
   "cell_type": "code",
   "execution_count": 3,
   "metadata": {},
   "outputs": [
    {
     "name": "stdout",
     "output_type": "stream",
     "text": [
      "Apple\n",
      "\n",
      "\n",
      "\n",
      "Pear\n",
      "\n",
      "banana\n",
      "\n",
      "   \n",
      "\n",
      "Grapes\n"
     ]
    }
   ],
   "source": [
    "# Looping through file directly. Note file organizes as a list of lines. Why?\n",
    "f = open(\"fruits.txt\", \"r\")\n",
    "for line in f:\n",
    "    print(line)\n",
    "f.close()"
   ]
  },
  {
   "cell_type": "code",
   "execution_count": 17,
   "metadata": {},
   "outputs": [
    {
     "name": "stdout",
     "output_type": "stream",
     "text": [
      "Apple\n",
      "\n",
      "\n",
      "\n",
      "Pear\n",
      "banana\n"
     ]
    }
   ],
   "source": [
    "# Read / write a specific # of characters. when would you do this?\n",
    "f = open(\"fruits.txt\", \"r\")\n",
    "print(f.read(20))\n",
    "f.close()"
   ]
  },
  {
   "cell_type": "code",
   "execution_count": null,
   "metadata": {},
   "outputs": [],
   "source": [
    "# with no parameter read() pulls in the whole file, then we print it out\n",
    "f = open(\"fruits.txt\", \"r\")\n",
    "whole_file = f.read()\n",
    "print(whole_file)\n",
    "f.close()"
   ]
  },
  {
   "cell_type": "code",
   "execution_count": 5,
   "metadata": {},
   "outputs": [
    {
     "name": "stdout",
     "output_type": "stream",
     "text": [
      "Apple\n",
      "\n",
      "\n",
      "\n",
      "Pear\n",
      "\n",
      "banana\n",
      "\n",
      "   \n",
      "\n",
      "Grapes\n"
     ]
    }
   ],
   "source": [
    "# Using readline() \n",
    "f = open(\"fruits.txt\", \"r\")\n",
    "b = True\n",
    "while(b):\n",
    "    line = f.readline()   # returns empty string at end of file, but note \\n is NOT empty\n",
    "    if(line):             # string is \"trivial\" if it is empty\n",
    "        print(line)\n",
    "    else:\n",
    "        break\n",
    "f.close()"
   ]
  },
  {
   "cell_type": "code",
   "execution_count": 6,
   "metadata": {},
   "outputs": [
    {
     "name": "stdout",
     "output_type": "stream",
     "text": [
      "['Apple\\n', '\\n', 'Pear\\n', 'banana\\n', '   \\n', 'Grapes']\n",
      "Apple\n",
      "\n",
      "Pear\n",
      "banana\n",
      "\n",
      "Grapes\n"
     ]
    }
   ],
   "source": [
    "# Use readlines() to read in the whole file, breaking lines apart into a list\n",
    "# Then iterate the list, trying to remote whitespace. Note it doesn't remove \\n\n",
    "f = open(\"fruits.txt\", \"r\")\n",
    "lines = f.readlines()\n",
    "print(lines)\n",
    "for line in lines:\n",
    "    print(line.strip())\n",
    "f.close()"
   ]
  },
  {
   "cell_type": "code",
   "execution_count": 8,
   "metadata": {},
   "outputs": [
    {
     "name": "stdout",
     "output_type": "stream",
     "text": [
      "Apple\n",
      "Pear\n",
      "banana\n",
      "Grapes\n"
     ]
    }
   ],
   "source": [
    "# 2nd attempt to remove \"blank\" lines by using boolean logic\n",
    "f = open(\"fruits.txt\", \"r\")\n",
    "for line in f.readlines():\n",
    "    strLine = line.strip()\n",
    "    if(strLine):      # takes advantage of the fact that \\n is \"trivial\". Is that a good idea?\n",
    "        print(line.strip())\n",
    "f.close()"
   ]
  },
  {
   "cell_type": "markdown",
   "metadata": {},
   "source": [
    "# Now let's focus on writing"
   ]
  },
  {
   "cell_type": "code",
   "execution_count": 20,
   "metadata": {},
   "outputs": [],
   "source": [
    "# now let's use write mode\n",
    "f = open(\"cities.txt\", \"w\")\n",
    "f.write(\"New York\\n\")\n",
    "f.write(\"Seattle\\n\")\n",
    "f.write(\"Austin\\n\")\n",
    "f.close()"
   ]
  },
  {
   "cell_type": "code",
   "execution_count": 21,
   "metadata": {
    "scrolled": true
   },
   "outputs": [
    {
     "name": "stdout",
     "output_type": "stream",
     "text": [
      "New York\n",
      "\n",
      "Seattle\n",
      "\n",
      "Austin\n",
      "\n"
     ]
    }
   ],
   "source": [
    "# print the file before we start messing with it\n",
    "g = open(\"cities.txt\")\n",
    "for line in g:\n",
    "    print(line)\n",
    "g.close()"
   ]
  },
  {
   "cell_type": "code",
   "execution_count": 22,
   "metadata": {},
   "outputs": [],
   "source": [
    "f = open(\"cities.txt\", \"a\")\n",
    "f.write(\"Sacramento\\n\")\n",
    "f.write(\"Portland\\n\")\n",
    "f.close()"
   ]
  },
  {
   "cell_type": "code",
   "execution_count": 23,
   "metadata": {},
   "outputs": [
    {
     "name": "stdout",
     "output_type": "stream",
     "text": [
      "New York\n",
      "\n",
      "Seattle\n",
      "\n",
      "Austin\n",
      "\n",
      "Sacramento\n",
      "\n",
      "Portlane\n",
      "\n"
     ]
    }
   ],
   "source": [
    "# print the file before we start messing with it\n",
    "g = open(\"cities.txt\")\n",
    "for line in g:\n",
    "    print(line)\n",
    "g.close()"
   ]
  },
  {
   "cell_type": "code",
   "execution_count": 5,
   "metadata": {},
   "outputs": [
    {
     "name": "stdout",
     "output_type": "stream",
     "text": [
      "New York\n",
      "Seattle\n",
      "Austin\n",
      "Sacramento\n",
      "Portlane\n",
      "44\n"
     ]
    },
    {
     "ename": "UnsupportedOperation",
     "evalue": "can't do nonzero cur-relative seeks",
     "output_type": "error",
     "traceback": [
      "\u001b[0;31m---------------------------------------------------------------------------\u001b[0m",
      "\u001b[0;31mUnsupportedOperation\u001b[0m                      Traceback (most recent call last)",
      "\u001b[0;32m<ipython-input-5-d9c0bfaf24a4>\u001b[0m in \u001b[0;36m<module>\u001b[0;34m\u001b[0m\n\u001b[1;32m      5\u001b[0m \u001b[0;34m\u001b[0m\u001b[0m\n\u001b[1;32m      6\u001b[0m \u001b[0mg\u001b[0m\u001b[0;34m.\u001b[0m\u001b[0mseek\u001b[0m\u001b[0;34m(\u001b[0m\u001b[0;36m0\u001b[0m\u001b[0;34m,\u001b[0m\u001b[0;36m2\u001b[0m\u001b[0;34m)\u001b[0m \u001b[0;31m# this sets Pointer to 3 characters from beginning of file\u001b[0m\u001b[0;34m\u001b[0m\u001b[0;34m\u001b[0m\u001b[0m\n\u001b[0;32m----> 7\u001b[0;31m \u001b[0mg\u001b[0m\u001b[0;34m.\u001b[0m\u001b[0mseek\u001b[0m\u001b[0;34m(\u001b[0m\u001b[0;34m-\u001b[0m\u001b[0;36m10\u001b[0m\u001b[0;34m,\u001b[0m\u001b[0;36m1\u001b[0m\u001b[0;34m)\u001b[0m\u001b[0;34m\u001b[0m\u001b[0;34m\u001b[0m\u001b[0m\n\u001b[0m\u001b[1;32m      8\u001b[0m \u001b[0;32mfor\u001b[0m \u001b[0mline\u001b[0m \u001b[0;32min\u001b[0m \u001b[0mg\u001b[0m\u001b[0;34m.\u001b[0m\u001b[0mreadlines\u001b[0m\u001b[0;34m(\u001b[0m\u001b[0;34m)\u001b[0m\u001b[0;34m:\u001b[0m\u001b[0;34m\u001b[0m\u001b[0;34m\u001b[0m\u001b[0m\n\u001b[1;32m      9\u001b[0m     \u001b[0mprint\u001b[0m\u001b[0;34m(\u001b[0m\u001b[0mline\u001b[0m\u001b[0;34m.\u001b[0m\u001b[0mstrip\u001b[0m\u001b[0;34m(\u001b[0m\u001b[0;34m)\u001b[0m\u001b[0;34m)\u001b[0m\u001b[0;34m\u001b[0m\u001b[0;34m\u001b[0m\u001b[0m\n",
      "\u001b[0;31mUnsupportedOperation\u001b[0m: can't do nonzero cur-relative seeks"
     ]
    }
   ],
   "source": [
    "g = open(\"cities.txt\")\n",
    "for line in g.readlines():\n",
    "    print(line.strip())\n",
    "print(g.tell())  # tell() indicates current offset\n",
    "\n",
    "g.seek(0,2) # this sets Pointer to 3 characters from beginning of file\n",
    "# g.seek(-10,1)\n",
    "for line in g.readlines():\n",
    "    print(line.strip())\n",
    "\n",
    "g.close()"
   ]
  },
  {
   "cell_type": "code",
   "execution_count": null,
   "metadata": {},
   "outputs": [],
   "source": []
  },
  {
   "cell_type": "code",
   "execution_count": null,
   "metadata": {},
   "outputs": [],
   "source": []
  },
  {
   "cell_type": "code",
   "execution_count": null,
   "metadata": {},
   "outputs": [],
   "source": []
  },
  {
   "cell_type": "code",
   "execution_count": null,
   "metadata": {},
   "outputs": [],
   "source": []
  },
  {
   "cell_type": "code",
   "execution_count": null,
   "metadata": {},
   "outputs": [],
   "source": []
  },
  {
   "cell_type": "code",
   "execution_count": 6,
   "metadata": {},
   "outputs": [
    {
     "name": "stdout",
     "output_type": "stream",
     "text": [
      "Albany\n",
      "Syracuse\n",
      "Buffalo\n",
      "Albany\n",
      "Syracuse\n",
      "Buffalo\n",
      "Albany\n",
      "Syracuse\n",
      "Buffalo\n"
     ]
    }
   ],
   "source": [
    "# using a+ mode and seek()\n",
    "h = open(\"cities_new.txt\", \"a+\")\n",
    "h.write(\"Albany \\n\")\n",
    "h.write(\"Syracuse \\n\")\n",
    "h.write(\"Buffalo \\n\")\n",
    "h.seek(0,0)        # note we don't have to close / re-open the file\n",
    "for line in h.readlines():\n",
    "    print(line.strip())\n",
    "\n",
    "g.close()"
   ]
  },
  {
   "cell_type": "code",
   "execution_count": null,
   "metadata": {},
   "outputs": [],
   "source": []
  },
  {
   "cell_type": "code",
   "execution_count": 7,
   "metadata": {},
   "outputs": [
    {
     "name": "stdout",
     "output_type": "stream",
     "text": [
      "simplecode\n",
      "done\n"
     ]
    }
   ],
   "source": [
    "# w+ mode\n",
    "list1 = [\"simple\", \"code\"]\n",
    "i = open(\"list1.txt\", \"w+\")\n",
    "i.writelines(list1)\n",
    "i.writelines(\"\\ndone\")\n",
    "i.seek(0,0)\n",
    "for line in i.readlines():\n",
    "    print(line.strip())\n",
    "\n",
    "i.close()"
   ]
  },
  {
   "cell_type": "code",
   "execution_count": null,
   "metadata": {},
   "outputs": [],
   "source": []
  },
  {
   "cell_type": "markdown",
   "metadata": {},
   "source": [
    "# Error Handling / Exceptions"
   ]
  },
  {
   "cell_type": "code",
   "execution_count": 30,
   "metadata": {},
   "outputs": [
    {
     "ename": "SyntaxError",
     "evalue": "EOL while scanning string literal (<ipython-input-30-6e611df3cc53>, line 2)",
     "output_type": "error",
     "traceback": [
      "\u001b[0;36m  File \u001b[0;32m\"<ipython-input-30-6e611df3cc53>\"\u001b[0;36m, line \u001b[0;32m2\u001b[0m\n\u001b[0;31m    print(\"Not closing quotes is a syntax error)\u001b[0m\n\u001b[0m                                                ^\u001b[0m\n\u001b[0;31mSyntaxError\u001b[0m\u001b[0;31m:\u001b[0m EOL while scanning string literal\n"
     ]
    }
   ],
   "source": [
    "# SyntaxError example\n",
    "print(\"Not closing quotes is a syntax error)"
   ]
  },
  {
   "cell_type": "code",
   "execution_count": 32,
   "metadata": {},
   "outputs": [
    {
     "ename": "IndexError",
     "evalue": "list index out of range",
     "output_type": "error",
     "traceback": [
      "\u001b[0;31m---------------------------------------------------------------------------\u001b[0m",
      "\u001b[0;31mIndexError\u001b[0m                                Traceback (most recent call last)",
      "\u001b[0;32m<ipython-input-32-79831822994c>\u001b[0m in \u001b[0;36m<module>\u001b[0;34m\u001b[0m\n\u001b[1;32m      1\u001b[0m \u001b[0;31m# An Indexerror example\u001b[0m\u001b[0;34m\u001b[0m\u001b[0;34m\u001b[0m\u001b[0;34m\u001b[0m\u001b[0m\n\u001b[1;32m      2\u001b[0m \u001b[0mlist1\u001b[0m \u001b[0;34m=\u001b[0m \u001b[0;34m[\u001b[0m\u001b[0;34m\"a\"\u001b[0m\u001b[0;34m,\u001b[0m\u001b[0;34m\"b\"\u001b[0m\u001b[0;34m,\u001b[0m\u001b[0;34m\"c\"\u001b[0m\u001b[0;34m,\u001b[0m\u001b[0;34m\"d\"\u001b[0m\u001b[0;34m]\u001b[0m\u001b[0;34m\u001b[0m\u001b[0;34m\u001b[0m\u001b[0m\n\u001b[0;32m----> 3\u001b[0;31m \u001b[0mprint\u001b[0m\u001b[0;34m(\u001b[0m\u001b[0mlist1\u001b[0m\u001b[0;34m[\u001b[0m\u001b[0;36m8\u001b[0m\u001b[0;34m]\u001b[0m\u001b[0;34m)\u001b[0m\u001b[0;34m\u001b[0m\u001b[0;34m\u001b[0m\u001b[0m\n\u001b[0m",
      "\u001b[0;31mIndexError\u001b[0m: list index out of range"
     ]
    }
   ],
   "source": [
    "# An IndexError example\n",
    "list1 = [\"a\",\"b\",\"c\",\"d\"]\n",
    "print(list1[8])"
   ]
  },
  {
   "cell_type": "code",
   "execution_count": 9,
   "metadata": {},
   "outputs": [
    {
     "ename": "ValueError",
     "evalue": "invalid literal for int() with base 10: '34t'",
     "output_type": "error",
     "traceback": [
      "\u001b[0;31m---------------------------------------------------------------------------\u001b[0m",
      "\u001b[0;31mValueError\u001b[0m                                Traceback (most recent call last)",
      "\u001b[0;32m<ipython-input-9-97bcebcaf624>\u001b[0m in \u001b[0;36m<module>\u001b[0;34m\u001b[0m\n\u001b[1;32m      1\u001b[0m \u001b[0;31m# Valueerror example\u001b[0m\u001b[0;34m\u001b[0m\u001b[0;34m\u001b[0m\u001b[0;34m\u001b[0m\u001b[0m\n\u001b[1;32m      2\u001b[0m \u001b[0mw\u001b[0m \u001b[0;34m=\u001b[0m \u001b[0;34m\"34t\"\u001b[0m\u001b[0;34m\u001b[0m\u001b[0;34m\u001b[0m\u001b[0m\n\u001b[0;32m----> 3\u001b[0;31m \u001b[0ma\u001b[0m \u001b[0;34m=\u001b[0m \u001b[0mint\u001b[0m\u001b[0;34m(\u001b[0m\u001b[0mw\u001b[0m\u001b[0;34m)\u001b[0m\u001b[0;34m\u001b[0m\u001b[0;34m\u001b[0m\u001b[0m\n\u001b[0m\u001b[1;32m      4\u001b[0m \u001b[0mprint\u001b[0m\u001b[0;34m(\u001b[0m\u001b[0mw\u001b[0m\u001b[0;34m)\u001b[0m\u001b[0;34m\u001b[0m\u001b[0;34m\u001b[0m\u001b[0m\n",
      "\u001b[0;31mValueError\u001b[0m: invalid literal for int() with base 10: '34t'"
     ]
    }
   ],
   "source": [
    "# Valueerror example\n",
    "w = \"34t\"\n",
    "a = int(w)\n",
    "print(w)"
   ]
  },
  {
   "cell_type": "code",
   "execution_count": null,
   "metadata": {},
   "outputs": [],
   "source": []
  },
  {
   "cell_type": "code",
   "execution_count": 8,
   "metadata": {},
   "outputs": [
    {
     "name": "stdout",
     "output_type": "stream",
     "text": [
      "2\n"
     ]
    }
   ],
   "source": [
    "# try / except example\n",
    "w = \"34t\"\n",
    "try:\n",
    "    x = int(w)\n",
    "except ValueError:\n",
    "    x = 2\n",
    "print(x)"
   ]
  },
  {
   "cell_type": "code",
   "execution_count": null,
   "metadata": {},
   "outputs": [],
   "source": []
  },
  {
   "cell_type": "code",
   "execution_count": 35,
   "metadata": {},
   "outputs": [
    {
     "name": "stdout",
     "output_type": "stream",
     "text": [
      "invalid literal for int() with base 10: '34t'\n",
      "2\n"
     ]
    }
   ],
   "source": [
    "# try / except example accessing error string\n",
    "w = \"34t\"\n",
    "try:\n",
    "    x = int(w)\n",
    "except ValueError as v:\n",
    "    x = 2\n",
    "    print(v)  # prints \"invalid literal...\"\n",
    "print(x)"
   ]
  },
  {
   "cell_type": "code",
   "execution_count": 38,
   "metadata": {},
   "outputs": [
    {
     "name": "stdout",
     "output_type": "stream",
     "text": [
      "2\n",
      "10\n"
     ]
    }
   ],
   "source": [
    "# try / except example - using separate blockx\n",
    "w = \"34t\"\n",
    "try:\n",
    "    x = int(w)\n",
    "except ValueError:\n",
    "    x = 2\n",
    "\n",
    "A = 10\n",
    "B = 0\n",
    "try:\n",
    "    C = A / B\n",
    "except ZeroDivisionError:\n",
    "    C = A\n",
    "\n",
    "print(x)\n",
    "print(C)"
   ]
  },
  {
   "cell_type": "markdown",
   "metadata": {},
   "source": [
    "# Math Module"
   ]
  },
  {
   "cell_type": "code",
   "execution_count": 11,
   "metadata": {},
   "outputs": [
    {
     "name": "stdout",
     "output_type": "stream",
     "text": [
      "11.0\n"
     ]
    }
   ],
   "source": [
    "# importing a module and accessing a function from it\n",
    "import math\n",
    "print(math.sqrt(121))"
   ]
  },
  {
   "cell_type": "code",
   "execution_count": null,
   "metadata": {},
   "outputs": [],
   "source": []
  },
  {
   "cell_type": "code",
   "execution_count": 24,
   "metadata": {},
   "outputs": [
    {
     "name": "stdout",
     "output_type": "stream",
     "text": [
      "what is the differences between 81.0 and 81 ?\n",
      "81.0\n",
      "81.0\n",
      "0.3348878709998644 0.2741785409998556\n"
     ]
    }
   ],
   "source": [
    "# pow function\n",
    "import math\n",
    "import timeit\n",
    "\n",
    "print(\"what is the differences between\", math.pow(3,4), \"and\", 3**4,\"?\")\n",
    "print(math.pow(3,4))\n",
    "print(3.0 ** 4.0)\n",
    "\n",
    "# let's try timing them. The ** operator is faster. Note how timeit() works\n",
    "print(timeit.timeit(\"pow(2, 100)\"), timeit.timeit(\"2 ** 100\"))"
   ]
  },
  {
   "cell_type": "code",
   "execution_count": 57,
   "metadata": {},
   "outputs": [
    {
     "name": "stdout",
     "output_type": "stream",
     "text": [
      "The area is  314.1592653589793\n"
     ]
    }
   ],
   "source": [
    "# pi constant\n",
    "radius = 10\n",
    "area = math.pi*radius*radius\n",
    "print(\"The area is \", area)"
   ]
  },
  {
   "cell_type": "markdown",
   "metadata": {},
   "source": [
    "# Random Module"
   ]
  },
  {
   "cell_type": "code",
   "execution_count": 17,
   "metadata": {},
   "outputs": [
    {
     "name": "stdout",
     "output_type": "stream",
     "text": [
      "0.2768748297393496\n",
      "36.97790915028698\n",
      "10\n"
     ]
    }
   ],
   "source": [
    "# importing random, calling random() function\n",
    "import random\n",
    "print(random.random())\n",
    "print(random.random()*100)\n",
    "print(int(random.random()*100))"
   ]
  },
  {
   "cell_type": "code",
   "execution_count": 19,
   "metadata": {},
   "outputs": [
    {
     "name": "stdout",
     "output_type": "stream",
     "text": [
      "14 19\n"
     ]
    }
   ],
   "source": [
    "# using choice() on iterable objects\n",
    "import random\n",
    "list1 = [12, 14, 19]\n",
    "tuple1 = (12, 14, 19)\n",
    "print(random.choice(list1), random.choice(tuple1))"
   ]
  },
  {
   "cell_type": "code",
   "execution_count": 6,
   "metadata": {},
   "outputs": [
    {
     "name": "stdout",
     "output_type": "stream",
     "text": [
      "5\n",
      "5\n",
      "5\n",
      "10\n"
     ]
    }
   ],
   "source": [
    "# Using randrange() to pick a number from a range. Several variations\n",
    "import random\n",
    "\n",
    "# Giving a single int picks a num from 0 to (but not including)num\n",
    "print(random.randrange(6))\n",
    "print(random.randrange(0,6))\n",
    "print(random.randrange(0,6,1))\n",
    "\n",
    "# prints a random even integer between 2 and 10, inclusive\n",
    "print(random.randrange(2,12,2))"
   ]
  },
  {
   "cell_type": "code",
   "execution_count": 15,
   "metadata": {},
   "outputs": [
    {
     "name": "stdout",
     "output_type": "stream",
     "text": [
      "[4, 6, 5, 3, 1, 2]\n",
      "[2, 5, 1, 3, 4, 6]\n"
     ]
    }
   ],
   "source": [
    "# Using shuffle to randomize a list\n",
    "import random\n",
    "\n",
    "# First use a manually generated a list\n",
    "list1 = [1,2,3,4,5,6]\n",
    "random.shuffle(list1)\n",
    "print(list1)\n",
    "\n",
    "# Now try building list from range and shuffling\n",
    "list2 = list(range(1,7))\n",
    "random.shuffle(list2)\n",
    "print(list2)"
   ]
  },
  {
   "cell_type": "markdown",
   "metadata": {},
   "source": [
    "# Time"
   ]
  },
  {
   "cell_type": "code",
   "execution_count": 21,
   "metadata": {},
   "outputs": [
    {
     "name": "stdout",
     "output_type": "stream",
     "text": [
      "1558636315.644314\n",
      "time.struct_time(tm_year=1970, tm_mon=1, tm_mday=1, tm_hour=0, tm_min=0, tm_sec=0, tm_wday=3, tm_yday=1, tm_isdst=0)\n"
     ]
    }
   ],
   "source": [
    "# time.time()\n",
    "# returns epoch time, \n",
    "import time\n",
    "print(time.time())\n",
    "# when did time actually begin? 12:00:00 Jan 1, 1970\n",
    "print(time.gmtime(0))"
   ]
  },
  {
   "cell_type": "code",
   "execution_count": 21,
   "metadata": {},
   "outputs": [
    {
     "name": "stdout",
     "output_type": "stream",
     "text": [
      "time.struct_time(tm_year=2019, tm_mon=3, tm_mday=15, tm_hour=20, tm_min=33, tm_sec=16, tm_wday=4, tm_yday=74, tm_isdst=1)\n",
      "shortened\n",
      "Fri Mar 15 20:33:16 2019\n"
     ]
    }
   ],
   "source": [
    "# generates local formatted time\n",
    "print(time.localtime())\n",
    "print(\"shortened\")\n",
    "print(time.asctime())"
   ]
  },
  {
   "cell_type": "code",
   "execution_count": null,
   "metadata": {},
   "outputs": [],
   "source": []
  },
  {
   "cell_type": "code",
   "execution_count": 67,
   "metadata": {},
   "outputs": [
    {
     "name": "stdout",
     "output_type": "stream",
     "text": [
      "TZ name is ('PST', 'PDT')\n"
     ]
    }
   ],
   "source": [
    "# tzname shows options for current local timezone\n",
    "print(\"TZ name is\", time.tzname) # note these are options for current"
   ]
  },
  {
   "cell_type": "code",
   "execution_count": 22,
   "metadata": {},
   "outputs": [
    {
     "name": "stdout",
     "output_type": "stream",
     "text": [
      "hello there\n"
     ]
    }
   ],
   "source": [
    "# sleep just sleeps\n",
    "print(\"hello\", end=\" \")\n",
    "time.sleep(5)\n",
    "print(\"there\")"
   ]
  },
  {
   "cell_type": "code",
   "execution_count": null,
   "metadata": {},
   "outputs": [],
   "source": []
  },
  {
   "cell_type": "markdown",
   "metadata": {},
   "source": [
    "# DateTime"
   ]
  },
  {
   "cell_type": "code",
   "execution_count": 69,
   "metadata": {},
   "outputs": [
    {
     "name": "stdout",
     "output_type": "stream",
     "text": [
      "12:30:00\n"
     ]
    }
   ],
   "source": [
    "#import datetime, build a time from HH/MM/SS\n",
    "import datetime\n",
    "print(datetime.time(12,30, 0))"
   ]
  },
  {
   "cell_type": "code",
   "execution_count": 72,
   "metadata": {},
   "outputs": [
    {
     "name": "stdout",
     "output_type": "stream",
     "text": [
      "2019-03-15\n",
      "2019-03-15 17:38:20.515722\n"
     ]
    }
   ],
   "source": [
    "# Get today's date\n",
    "print(datetime.date.today())  # Note this specifies just provide date\n",
    "print(datetime.datetime.today()) # This one specifies dateTime"
   ]
  },
  {
   "cell_type": "code",
   "execution_count": null,
   "metadata": {},
   "outputs": [],
   "source": []
  }
 ],
 "metadata": {
  "kernelspec": {
   "display_name": "Python 3",
   "language": "python",
   "name": "python3"
  },
  "language_info": {
   "codemirror_mode": {
    "name": "ipython",
    "version": 3
   },
   "file_extension": ".py",
   "mimetype": "text/x-python",
   "name": "python",
   "nbconvert_exporter": "python",
   "pygments_lexer": "ipython3",
   "version": "3.7.1"
  }
 },
 "nbformat": 4,
 "nbformat_minor": 2
}
