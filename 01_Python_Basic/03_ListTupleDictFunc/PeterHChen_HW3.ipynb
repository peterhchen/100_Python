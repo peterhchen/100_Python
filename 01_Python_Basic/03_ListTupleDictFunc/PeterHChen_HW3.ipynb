{
 "cells": [
  {
   "cell_type": "code",
   "execution_count": null,
   "metadata": {},
   "outputs": [],
   "source": [
    "Lists, tuples, dictionaries \n",
    " \n",
    "1. Perform the following operations on list1 = [-11, -4, 5, 12, 13, 14, 19]\n",
    "a. Find the number of elements in list1.\n",
    "b. Append 22 to list1.\n",
    "c. Pop element from index 3. Print the popped element as well as list1.\n",
    "d. Convert the list to tuple. Then print the tuple."
   ]
  },
  {
   "cell_type": "code",
   "execution_count": 5,
   "metadata": {},
   "outputs": [
    {
     "name": "stdout",
     "output_type": "stream",
     "text": [
      "List list1 = [-11, -4, 5, 12, 13, 14, 19]\n",
      "1-a:\n",
      "  Number of elements = 7\n",
      "1-b:\n",
      "  Append 22 to list1 = [-11, -4, 5, 12, 13, 14, 19, 22]\n",
      "1-c:\n",
      "  Popped element =  12\n",
      "  After popped index 3, list1 = [-11, -4, 5, 13, 14, 19, 22]\n",
      "1-d:\n",
      "  Convert list1 to tuple: (-11, -4, 5, 13, 14, 19, 22)\n"
     ]
    }
   ],
   "source": [
    "list1 = [-11, -4, 5, 12, 13, 14, 19]\n",
    "print (\"List list1 =\", list1)\n",
    "# 1-a:\n",
    "print (\"1-a:\")\n",
    "print (\"  Number of elements =\", len (list1))\n",
    "# 1-b:\n",
    "print (\"1-b:\")\n",
    "list1.append(22)\n",
    "print(\"  Append 22 to list1 = \" + str (list1))\n",
    "# 1-c:\n",
    "print (\"1-c:\")\n",
    "ele = list1.pop(3)\n",
    "print(\"  Popped element = \", ele)\n",
    "print(\"  After popped index 3, list1 = \"+ str (list1))\n",
    "# 1-d\n",
    "print (\"1-d:\")\n",
    "tup1 = tuple (list1)\n",
    "print (\"  Convert list1 to tuple: \" + str (tup1))"
   ]
  },
  {
   "cell_type": "code",
   "execution_count": null,
   "metadata": {},
   "outputs": [],
   "source": [
    "2. If t1 = (3, 6, 7, 11) perform all the following operations:\n",
    "a. Find the number of elements in t1.\n",
    "b. Concatenate t1 to t2 = (1, 2) and create t3.\n",
    "c. If possible append -4 to t3. If not, explain why not."
   ]
  },
  {
   "cell_type": "code",
   "execution_count": 12,
   "metadata": {},
   "outputs": [
    {
     "name": "stdout",
     "output_type": "stream",
     "text": [
      "Tuple t1 = (3, 6, 7, 11)\n",
      "2-a:\n",
      "  The number of elements of t1 = 4\n",
      "2-b:\n",
      "  Concate t1 and t2 into t3 =  (3, 6, 7, 11, 1, 2)\n",
      "2-c:\n",
      "  Tuple is immutable and impossible to append element to tuple.\n",
      "  However, we can convert tuple into list, then perform append, and then convert back to tuple.\n",
      "  Orginal tuple t3 = (3, 6, 7, 11, 1, 2)\n",
      "  Final tuple t5 = (3, 6, 7, 11, 1, 2, -4)\n"
     ]
    }
   ],
   "source": [
    "t1 = (3, 6, 7, 11)\n",
    "print ('Tuple t1 =', t1)\n",
    "# 2-a\n",
    "print (\"2-a:\")\n",
    "print (\"  The number of elements of t1 =\", len(t1))\n",
    "# 2-b\n",
    "print (\"2-b:\")\n",
    "t2 = (1, 2)\n",
    "t3 = t1 + t2\n",
    "print (\"  Concate t1 and t2 into t3 = \", t3)\n",
    "# 3-c\n",
    "print (\"2-c:\")\n",
    "#t3.append(-4)\n",
    "#print (\"t3 = \", t3)\n",
    "# tuple is immutable and cannot append. There is no append() or extend() in tuple.\n",
    "# however, you can cconcate or slice them into new tuples, e.g., t3 = t1 + t2.\n",
    "# https://stackoverflow.com/questions/1380860/add-variables-to-tuple\n",
    "print(\"  Tuple is immutable and impossible to append element to tuple.\")\n",
    "print(\"  However, we can convert tuple into list, then perform append, and then convert back to tuple.\")\n",
    "t4 = list (t3)\n",
    "t4.append(-4)\n",
    "t5 = tuple(t4)\n",
    "print ('  Orginal tuple t3 =', t3)\n",
    "print ('  Final tuple t5 =', t5)"
   ]
  },
  {
   "cell_type": "code",
   "execution_count": null,
   "metadata": {},
   "outputs": [],
   "source": [
    "3. If dictionary1 = {12: \"Amazon\", 14: \"Nvidia\", 15: \"Tesla\"}. \n",
    "Perform required operations to get the following. If you can’t perform a specific operation, explain:\n",
    "a. The length of the dictionary?\n",
    "b. The value for 14?\n",
    "c. Print the keys and values as lists.  \n",
    "d. Value for dictionary1[16]?"
   ]
  },
  {
   "cell_type": "code",
   "execution_count": 10,
   "metadata": {},
   "outputs": [
    {
     "name": "stdout",
     "output_type": "stream",
     "text": [
      "3-a:\n",
      "  The lenght of the dictionary:  3\n",
      "3-b:\n",
      "  The value of key = 14:\n",
      "  dictionary1.dictionalry1[14]:  Nvidia\n",
      "3-x:\n",
      "  Print all keys and values:\n",
      "  dictionary1.keys():  dict_keys([12, 14, 15])\n",
      "  dictionary1.values():  dict_values(['Amazon', 'Nvidia', 'Tesla'])\n",
      "3-d:\n",
      "  The value for dictionary[16]:\n",
      "  dictionary1.get(16):  None\n"
     ]
    }
   ],
   "source": [
    "# 3\n",
    "print (\"3-a:\")\n",
    "dictionary1 = {12: \"Amazon\", 14: \"Nvidia\", 15: \"Tesla\"}\n",
    "# 3-a: The length of dictionary\n",
    "print (\"  The lenght of the dictionary: \", len (dictionary1))\n",
    "# 3-b: The value of key = 14\n",
    "print (\"3-b:\")\n",
    "print (\"  The value of key = 14:\")\n",
    "print (\"  dictionary1.dictionalry1[14]: \", dictionary1[14])\n",
    "#print (\"  dictionary1.get(14): \", dictionary1.get(14))\n",
    "# 3-c: print all keys and values\n",
    "print (\"3-x:\")\n",
    "print (\"  Print all keys and values:\")\n",
    "print (\"  dictionary1.keys(): \", dictionary1.keys())\n",
    "print (\"  dictionary1.values(): \", dictionary1.values())\n",
    "# 3-d\n",
    "print (\"3-d:\")\n",
    "print (\"  The value for dictionary[16]:\")\n",
    "print (\"  dictionary1.get(16): \", dictionary1.get(16))"
   ]
  },
  {
   "cell_type": "code",
   "execution_count": null,
   "metadata": {},
   "outputs": [],
   "source": [
    "Functions\n",
    " \n",
    "4. \n",
    "a. Define a function raised_function that takes two values v1 and v2 and \n",
    "b. computes v1 raised to the v2 power and returns the value. \n",
    "c. Make a call to the function and supply 4 and 7. Print the result."
   ]
  },
  {
   "cell_type": "code",
   "execution_count": 19,
   "metadata": {},
   "outputs": [
    {
     "name": "stdout",
     "output_type": "stream",
     "text": [
      "4-a:\n",
      "  rasied_fucntion (v1, v2):\n",
      "4-b:\n",
      "  raised_fucntion (2, 3) =  8.0\n",
      "4-c:\n",
      "  raised_fucntion (4, 7) =  16384.0\n"
     ]
    }
   ],
   "source": [
    "# 2,3 => 2^3 = 8\n",
    "# 4-a\n",
    "import math\n",
    "print (\"4-a:\")\n",
    "print (\"  rasied_fucntion (v1, v2):\") \n",
    "def raised_function (v1, v2):\n",
    "    return math.pow (v1, v2)\n",
    "\n",
    "# 4-b\n",
    "print ('4-b:')\n",
    "result = raised_function (2, 3)\n",
    "print (\"  raised_fucntion (2, 3) = \", result);\n",
    "\n",
    "# 4-c\n",
    "print ('4-c:')\n",
    "#result = raised_function (4, 2)\n",
    "#print (\"raised_fucntion (4, 2) = \", result);\n",
    "result = raised_function (4, 7)\n",
    "print (\"  raised_fucntion (4, 7) = \", result);"
   ]
  },
  {
   "cell_type": "code",
   "execution_count": null,
   "metadata": {},
   "outputs": [],
   "source": [
    "5. \n",
    "a. Define a function string_loop that takes a string and loops through it and prints only vowels. \n",
    "b. Make a call to the function and pass “compute”. "
   ]
  },
  {
   "cell_type": "code",
   "execution_count": 17,
   "metadata": {},
   "outputs": [
    {
     "name": "stdout",
     "output_type": "stream",
     "text": [
      "5-a:\n",
      "  index: 3 string[i]: i\n",
      "  index: 6 string[i]: i\n",
      "  index: 9 string[i]: a\n",
      "  index: 12 string[i]: e\n",
      "  index: 17 string[i]: o\n",
      "  index: 19 string[i]: e\n",
      "  index: 22 string[i]: o\n",
      "  index: 23 string[i]: u\n",
      "  index: 26 string[i]: u\n",
      "5-b:\n",
      "  pass compute\n"
     ]
    }
   ],
   "source": [
    "# 5-a\n",
    "def string_loop (string):\n",
    "    vowel='aeiou'\n",
    "    sz=len(string)\n",
    "    if (sz == 0):\n",
    "        print (\"  pass compute\")\n",
    "        pass\n",
    "    \n",
    "    # print ('sz: ', sz)\n",
    "    for i in range(sz):\n",
    "        #print ('strA[i]: ', string[i])\n",
    "        if (string[i] in vowel):\n",
    "            print (\"  index:\", i, \"string[i]:\", string[i])\n",
    "        #else:\n",
    "        #    print ('no strA[i]: ', strA[i])\n",
    "\n",
    "print (\"5-a:\")\n",
    "string_loop (\" this is a test vowel output\")\n",
    "\n",
    "# 5-b\n",
    "print (\"5-b:\")\n",
    "string_loop (\"\")"
   ]
  },
  {
   "cell_type": "code",
   "execution_count": null,
   "metadata": {},
   "outputs": [],
   "source": []
  }
 ],
 "metadata": {
  "kernelspec": {
   "display_name": "Python 3",
   "language": "python",
   "name": "python3"
  },
  "language_info": {
   "codemirror_mode": {
    "name": "ipython",
    "version": 3
   },
   "file_extension": ".py",
   "mimetype": "text/x-python",
   "name": "python",
   "nbconvert_exporter": "python",
   "pygments_lexer": "ipython3",
   "version": "3.7.3"
  }
 },
 "nbformat": 4,
 "nbformat_minor": 2
}
